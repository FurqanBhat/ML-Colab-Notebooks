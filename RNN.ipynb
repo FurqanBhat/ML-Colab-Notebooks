{
  "nbformat": 4,
  "nbformat_minor": 0,
  "metadata": {
    "colab": {
      "provenance": [],
      "authorship_tag": "ABX9TyMzwZtlprpPFvQwLMPUCoNn",
      "include_colab_link": true
    },
    "kernelspec": {
      "name": "python3",
      "display_name": "Python 3"
    },
    "language_info": {
      "name": "python"
    }
  },
  "cells": [
    {
      "cell_type": "markdown",
      "metadata": {
        "id": "view-in-github",
        "colab_type": "text"
      },
      "source": [
        "<a href=\"https://colab.research.google.com/github/FurqanBhat/ML-Colab-Notebooks/blob/main/RNN.ipynb\" target=\"_parent\"><img src=\"https://colab.research.google.com/assets/colab-badge.svg\" alt=\"Open In Colab\"/></a>"
      ]
    },
    {
      "cell_type": "code",
      "execution_count": 75,
      "metadata": {
        "id": "nlZM1At3kWSI"
      },
      "outputs": [],
      "source": [
        "import torch\n",
        "import torch.nn as nn\n",
        "import torchvision\n",
        "import torchvision.transforms as transforms"
      ]
    },
    {
      "cell_type": "code",
      "source": [
        "device=torch.device('cuda' if torch.cuda.is_available() else 'cpu')\n"
      ],
      "metadata": {
        "id": "7mQry1s-kYa-"
      },
      "execution_count": 76,
      "outputs": []
    },
    {
      "cell_type": "code",
      "source": [
        "input_size=28\n",
        "sequence_length=28\n",
        "hidden_size=128\n",
        "num_classes=10\n",
        "num_epochs=2\n",
        "batch_size=100\n",
        "learnig_rate=0.001\n",
        "num_layers=2"
      ],
      "metadata": {
        "id": "VkFxBWx3kYf8"
      },
      "execution_count": 77,
      "outputs": []
    },
    {
      "cell_type": "code",
      "source": [
        "train_dataset= torchvision.datasets.MNIST(root='./data', train=True, transform=transforms.ToTensor(), download=True)\n",
        "\n",
        "test_dataset=torchvision.datasets.MNIST(root='./data', train=False, transform=transforms.ToTensor(), download=True)\n",
        "\n",
        "train_loader=torch.utils.data.DataLoader(train_dataset, batch_size=batch_size, shuffle=True)\n",
        "\n",
        "test_loader=torch.utils.data.DataLoader(test_dataset, batch_size=batch_size, shuffle=False)"
      ],
      "metadata": {
        "id": "BYnAXkflkYiy"
      },
      "execution_count": 78,
      "outputs": []
    },
    {
      "cell_type": "code",
      "source": [
        "class RNN(nn.Module):\n",
        "  def __init__(self, input_size, hidden_size, num_layers, num_classes):\n",
        "    super(RNN, self).__init__()\n",
        "    self.num_layers=num_layers\n",
        "    self.hidden_size=hidden_size\n",
        "    self.rnn=nn.RNN(input_size=input_size, hidden_size=hidden_size,\n",
        "                    num_layers=num_layers, batch_first=True)\n",
        "    self.fc=nn.Linear(hidden_size, num_classes)\n",
        "\n",
        "\n",
        "  def forward(self, x):\n",
        "    h0=torch.zeros(self.num_layers, x.size(0), self.hidden_size).to(device)\n",
        "    out, _ =self.rnn(x,h0)\n",
        "    #batch_sizeXsequence_lengthXhidden_size\n",
        "    #out: N, 28, 128\n",
        "\n",
        "    out=out[:,-1, :]\n",
        "    out=self.fc(out)\n",
        "    return out\n",
        "\n"
      ],
      "metadata": {
        "id": "PRqX9KF1kYl-"
      },
      "execution_count": 79,
      "outputs": []
    },
    {
      "cell_type": "code",
      "source": [
        "model=RNN(input_size,hidden_size, num_layers, num_classes).to(device)"
      ],
      "metadata": {
        "id": "y-H6PNFPkYoq"
      },
      "execution_count": 80,
      "outputs": []
    },
    {
      "cell_type": "code",
      "source": [
        "criterion=nn.CrossEntropyLoss()\n",
        "optimizer=torch.optim.Adam(model.parameters(), lr=learnig_rate)"
      ],
      "metadata": {
        "id": "vrW2IK2gkYsk"
      },
      "execution_count": 81,
      "outputs": []
    },
    {
      "cell_type": "code",
      "source": [
        "n_total_steps=len(train_loader)\n",
        "for epoch in range(num_epochs):\n",
        "  for i, (images, labels) in enumerate(train_loader):\n",
        "    images=images.reshape(-1, sequence_length, input_size).to(device)\n",
        "    labels=labels.to(device)\n",
        "\n",
        "    outputs=model(images)\n",
        "    loss=criterion(outputs, labels)\n",
        "\n",
        "\n",
        "    optimizer.zero_grad()\n",
        "    loss.backward()\n",
        "    optimizer.step()\n",
        "\n",
        "\n",
        "    if (i+1)%100==0:\n",
        "      print(f\"Epoch {epoch+1}/{num_epochs} , Step {i+1}/{n_total_steps}, Loss:   {loss.item():.4f}\")\n",
        "\n"
      ],
      "metadata": {
        "colab": {
          "base_uri": "https://localhost:8080/"
        },
        "id": "wj_8pK4tNzjU",
        "outputId": "14ad6f98-6370-4511-d677-9236a2f15032"
      },
      "execution_count": 82,
      "outputs": [
        {
          "output_type": "stream",
          "name": "stdout",
          "text": [
            "Epoch 1/2 , Step 100/600, Loss:   0.9919\n",
            "Epoch 1/2 , Step 200/600, Loss:   0.6174\n",
            "Epoch 1/2 , Step 300/600, Loss:   0.6183\n",
            "Epoch 1/2 , Step 400/600, Loss:   0.4330\n",
            "Epoch 1/2 , Step 500/600, Loss:   0.2557\n",
            "Epoch 1/2 , Step 600/600, Loss:   0.2875\n",
            "Epoch 2/2 , Step 100/600, Loss:   0.3831\n",
            "Epoch 2/2 , Step 200/600, Loss:   0.2808\n",
            "Epoch 2/2 , Step 300/600, Loss:   0.3560\n",
            "Epoch 2/2 , Step 400/600, Loss:   0.1661\n",
            "Epoch 2/2 , Step 500/600, Loss:   0.2357\n",
            "Epoch 2/2 , Step 600/600, Loss:   0.1906\n"
          ]
        }
      ]
    },
    {
      "cell_type": "code",
      "source": [
        "with torch.no_grad():\n",
        "  n_samples=len(test_loader.dataset)\n",
        "  n_correct=0\n",
        "  for images, labels in test_loader:\n",
        "    images=images.reshape(-1,sequence_length, input_size).to(device)\n",
        "    labels=labels.to(device)\n",
        "    outputs=model(images)\n",
        "\n",
        "    _, predicted=torch.max(outputs, 1)\n",
        "    n_correct+=(predicted==labels).sum().item()\n",
        "\n",
        "\n",
        "  print(f\"accuracy={n_correct/n_samples}\")\n",
        "\n",
        "\n",
        "\n",
        "\n"
      ],
      "metadata": {
        "colab": {
          "base_uri": "https://localhost:8080/"
        },
        "id": "Qyl5UZbgNzl8",
        "outputId": "ade93971-d580-4c85-f1a8-6afcb9045243"
      },
      "execution_count": 83,
      "outputs": [
        {
          "output_type": "stream",
          "name": "stdout",
          "text": [
            "accuracy=0.942\n"
          ]
        }
      ]
    },
    {
      "cell_type": "code",
      "source": [],
      "metadata": {
        "id": "gWIlnTu5NzpL"
      },
      "execution_count": 83,
      "outputs": []
    },
    {
      "cell_type": "code",
      "source": [],
      "metadata": {
        "id": "_Vt-BvrUNzsD"
      },
      "execution_count": 83,
      "outputs": []
    },
    {
      "cell_type": "code",
      "source": [],
      "metadata": {
        "id": "l5t1ZIgiNzus"
      },
      "execution_count": 83,
      "outputs": []
    },
    {
      "cell_type": "code",
      "source": [],
      "metadata": {
        "id": "MDriGJ39Nzyn"
      },
      "execution_count": 83,
      "outputs": []
    }
  ]
}