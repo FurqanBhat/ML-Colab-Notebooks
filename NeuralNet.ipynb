{
  "nbformat": 4,
  "nbformat_minor": 0,
  "metadata": {
    "colab": {
      "provenance": [],
      "gpuType": "T4",
      "authorship_tag": "ABX9TyO+KPDxYhi7AHw3qgDBfG0N",
      "include_colab_link": true
    },
    "kernelspec": {
      "name": "python3",
      "display_name": "Python 3"
    },
    "language_info": {
      "name": "python"
    },
    "accelerator": "GPU"
  },
  "cells": [
    {
      "cell_type": "markdown",
      "metadata": {
        "id": "view-in-github",
        "colab_type": "text"
      },
      "source": [
        "<a href=\"https://colab.research.google.com/github/FurqanBhat/ML-Colab-Notebooks/blob/main/NeuralNet.ipynb\" target=\"_parent\"><img src=\"https://colab.research.google.com/assets/colab-badge.svg\" alt=\"Open In Colab\"/></a>"
      ]
    },
    {
      "cell_type": "code",
      "execution_count": 1,
      "metadata": {
        "id": "Dpnl4xjAhXU9"
      },
      "outputs": [],
      "source": [
        "import torch\n",
        "import torchvision\n",
        "import torchvision.transforms as transforms"
      ]
    },
    {
      "cell_type": "code",
      "source": [],
      "metadata": {
        "id": "Xtt0mTvajgrX"
      },
      "execution_count": 1,
      "outputs": []
    },
    {
      "cell_type": "code",
      "source": [],
      "metadata": {
        "id": "8vBsJ0z4jg2J"
      },
      "execution_count": 1,
      "outputs": []
    },
    {
      "cell_type": "code",
      "source": [
        "#LOAD DATA\n",
        "\n",
        "transform=transforms.Compose([\n",
        "    transforms.ToTensor()\n",
        "])\n",
        "\n",
        "training_dataset=torchvision.datasets.MNIST(root='./data',train=True, transform=transform, download=True)\n",
        "\n",
        "testing_dataset=torchvision.datasets.MNIST(root='./data', train=False, transform=transform, download=True)\n"
      ],
      "metadata": {
        "colab": {
          "base_uri": "https://localhost:8080/"
        },
        "id": "knmvMERnhiaw",
        "outputId": "5a19e262-96f1-4834-f6eb-3b5041c5a6ec"
      },
      "execution_count": 2,
      "outputs": [
        {
          "output_type": "stream",
          "name": "stderr",
          "text": [
            "100%|██████████| 9.91M/9.91M [00:00<00:00, 17.8MB/s]\n",
            "100%|██████████| 28.9k/28.9k [00:00<00:00, 483kB/s]\n",
            "100%|██████████| 1.65M/1.65M [00:00<00:00, 4.47MB/s]\n",
            "100%|██████████| 4.54k/4.54k [00:00<00:00, 6.00MB/s]\n"
          ]
        }
      ]
    },
    {
      "cell_type": "code",
      "source": [
        "#Hyperparameters\n",
        "batch_size=100\n",
        "learning_rate=0.01\n",
        "num_epochs=4\n",
        "\n",
        "#Loaders\n",
        "training_loader=torch.utils.data.DataLoader(dataset=training_dataset, batch_size=batch_size, shuffle=True)\n",
        "\n",
        "testing_loader=torch.utils.data.DataLoader(dataset=testing_dataset, batch_size=batch_size, shuffle=False)\n",
        "\n"
      ],
      "metadata": {
        "id": "O4XTjxXXhigc"
      },
      "execution_count": 3,
      "outputs": []
    },
    {
      "cell_type": "code",
      "source": [
        "#Model\n",
        "import torch.nn as nn\n",
        "\n",
        "class NeuralNet(nn.Module):\n",
        "  def __init__(self):\n",
        "    super().__init__()\n",
        "    self.l1=nn.Linear(784,500)\n",
        "    self.relu=nn.ReLU()\n",
        "    self.l2=nn.Linear(500,10)\n",
        "\n",
        "  def forward(self,x):\n",
        "    out=self.l1(x)\n",
        "    out=self.relu(out)\n",
        "    out=self.l2(out)\n",
        "    return out"
      ],
      "metadata": {
        "id": "CnefLTc9hij5"
      },
      "execution_count": 4,
      "outputs": []
    },
    {
      "cell_type": "code",
      "source": [
        "device=torch.device('cuda' if torch.cuda.is_available() else 'cpu')\n",
        "print(device)"
      ],
      "metadata": {
        "colab": {
          "base_uri": "https://localhost:8080/"
        },
        "id": "oV4oCWo0hioj",
        "outputId": "0b087b2b-dbe7-4a48-ccca-e9bc60249d0c"
      },
      "execution_count": 5,
      "outputs": [
        {
          "output_type": "stream",
          "name": "stdout",
          "text": [
            "cuda\n"
          ]
        }
      ]
    },
    {
      "cell_type": "code",
      "source": [
        "model=NeuralNet().to(device)\n",
        "#Loss and Optimizer\n",
        "criterion=nn.CrossEntropyLoss()\n",
        "optimizer=torch.optim.Adam(model.parameters(), lr=learning_rate)"
      ],
      "metadata": {
        "id": "z-8XX9ZVhir_"
      },
      "execution_count": 6,
      "outputs": []
    },
    {
      "cell_type": "code",
      "source": [
        "#Train\n",
        "batch_size=len(training_loader)\n",
        "for epoch in range(num_epochs):\n",
        "  running_loss=0\n",
        "  for images, labels in training_loader:\n",
        "    images=images.reshape(-1, 784).to(device)\n",
        "    labels=labels.to(device)\n",
        "\n",
        "    outputs=model(images)\n",
        "\n",
        "\n",
        "\n",
        "    loss=criterion(outputs, labels)\n",
        "    loss.backward()\n",
        "    running_loss+=loss.item()\n",
        "\n",
        "    optimizer.step()\n",
        "    optimizer.zero_grad()\n",
        "\n",
        "  print(f\"Epoch [{epoch+1}/{num_epochs}], loss: {running_loss/batch_size}\")\n"
      ],
      "metadata": {
        "colab": {
          "base_uri": "https://localhost:8080/"
        },
        "id": "g_88n5SLBkVN",
        "outputId": "e3b606b0-af65-4bec-eddf-32bf01e16ff8"
      },
      "execution_count": 7,
      "outputs": [
        {
          "output_type": "stream",
          "name": "stdout",
          "text": [
            "Epoch [0/4], loss: 0.2108343902043998\n",
            "Epoch [1/4], loss: 0.11803128921426832\n",
            "Epoch [2/4], loss: 0.09395676266246786\n",
            "Epoch [3/4], loss: 0.07986200125499938\n"
          ]
        }
      ]
    },
    {
      "cell_type": "code",
      "source": [
        "#Test\n",
        "n_correct=0\n",
        "total_test_size=len(training_loader.dataset)\n",
        "with torch.no_grad():\n",
        "  for images, labels in training_loader:\n",
        "    images=images.reshape(-1,28*28).to(device)\n",
        "    labels=labels.to(device)\n",
        "\n",
        "    outputs=model(images)\n",
        "    _,predictions=torch.max(outputs,1)\n",
        "\n",
        "    n_correct+=(predictions==labels).sum().item()\n",
        "\n",
        "print(f\"Accuracy: {(n_correct/total_test_size)*100:.5f}%\")"
      ],
      "metadata": {
        "colab": {
          "base_uri": "https://localhost:8080/"
        },
        "id": "83pl_IQeBkZN",
        "outputId": "573a68e8-41f4-4650-c663-f5ae7d428857"
      },
      "execution_count": 46,
      "outputs": [
        {
          "output_type": "stream",
          "name": "stdout",
          "text": [
            "Accuracy: 98.23667%\n"
          ]
        }
      ]
    },
    {
      "cell_type": "code",
      "source": [
        "#Random test and plotting\n",
        "import matplotlib.pyplot as plt\n",
        "example_data, example_targets=next(iter(testing_loader))\n",
        "\n",
        "x=10\n",
        "image = example_data[x]\n",
        "plt.imshow(image[0])\n",
        "label = example_targets[x]\n",
        "image = image.reshape(-1, 28 * 28).to(device)\n",
        "\n",
        "with torch.no_grad():\n",
        "       output = model(image)\n",
        "       _, predicted = torch.max(output, 1)\n",
        "print(predicted)\n",
        "plt.yticks([])\n",
        "plt.xticks([])\n",
        "plt.xlabel(f\"Predicted: {predicted.item()} \\nActual: {label.item()}\")"
      ],
      "metadata": {
        "colab": {
          "base_uri": "https://localhost:8080/",
          "height": 477
        },
        "id": "sEaKlteXBkch",
        "outputId": "17c1b2ca-9465-4eb5-d8f8-50c3cbace8ef"
      },
      "execution_count": 49,
      "outputs": [
        {
          "output_type": "stream",
          "name": "stdout",
          "text": [
            "tensor([0], device='cuda:0')\n"
          ]
        },
        {
          "output_type": "execute_result",
          "data": {
            "text/plain": [
              "Text(0.5, 0, 'Predicted: 0 \\nActual: 0')"
            ]
          },
          "metadata": {},
          "execution_count": 49
        },
        {
          "output_type": "display_data",
          "data": {
            "text/plain": [
              "<Figure size 640x480 with 1 Axes>"
            ],
            "image/png": "[encoded data removed]"
          },
          "metadata": {}
        }
      ]
    },
    {
      "cell_type": "code",
      "source": [],
      "metadata": {
        "id": "gcwCtjpRBke-"
      },
      "execution_count": null,
      "outputs": []
    }
  ]
}