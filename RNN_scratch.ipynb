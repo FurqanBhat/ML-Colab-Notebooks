{
  "nbformat": 4,
  "nbformat_minor": 0,
  "metadata": {
    "colab": {
      "provenance": [],
      "authorship_tag": "ABX9TyMJVRAwgq/Lf/T+Lp14r3iz",
      "include_colab_link": true
    },
    "kernelspec": {
      "name": "python3",
      "display_name": "Python 3"
    },
    "language_info": {
      "name": "python"
    }
  },
  "cells": [
    {
      "cell_type": "markdown",
      "metadata": {
        "id": "view-in-github",
        "colab_type": "text"
      },
      "source": [
        "<a href=\"https://colab.research.google.com/github/FurqanBhat/ML-Colab-Notebooks/blob/main/RNN_scratch.ipynb\" target=\"_parent\"><img src=\"https://colab.research.google.com/assets/colab-badge.svg\" alt=\"Open In Colab\"/></a>"
      ]
    },
    {
      "cell_type": "code",
      "execution_count": null,
      "metadata": {
        "colab": {
          "base_uri": "https://localhost:8080/"
        },
        "id": "-nT1V7VXaBI6",
        "outputId": "fc81d321-7370-47d0-f726-e22170cc6812"
      },
      "outputs": [
        {
          "output_type": "stream",
          "name": "stdout",
          "text": [
            "Archive:  ./data.zip\n",
            "   creating: data/\n",
            "  inflating: data/eng-fra.txt        \n",
            "   creating: data/names/\n",
            "  inflating: data/names/Arabic.txt   \n",
            "  inflating: data/names/Chinese.txt  \n",
            "  inflating: data/names/Czech.txt    \n",
            "  inflating: data/names/Dutch.txt    \n",
            "  inflating: data/names/English.txt  \n",
            "  inflating: data/names/French.txt   \n",
            "  inflating: data/names/German.txt   \n",
            "  inflating: data/names/Greek.txt    \n",
            "  inflating: data/names/Irish.txt    \n",
            "  inflating: data/names/Italian.txt  \n",
            "  inflating: data/names/Japanese.txt  \n",
            "  inflating: data/names/Korean.txt   \n",
            "  inflating: data/names/Polish.txt   \n",
            "  inflating: data/names/Portuguese.txt  \n",
            "  inflating: data/names/Russian.txt  \n",
            "  inflating: data/names/Scottish.txt  \n",
            "  inflating: data/names/Spanish.txt  \n",
            "  inflating: data/names/Vietnamese.txt  \n"
          ]
        }
      ],
      "source": [
        "!unzip ./data.zip"
      ]
    },
    {
      "cell_type": "code",
      "source": [
        "import io\n",
        "import os\n",
        "import unicodedata\n",
        "import string\n",
        "import glob\n",
        "\n",
        "import torch\n",
        "import random\n",
        "\n",
        "ALL_LETTERS=string.ascii_letters+\".,;'\"\n",
        "N_LETTERS=len(ALL_LETTERS)\n",
        "\n",
        "def unicode_to_ascii(s):\n",
        "  return ''.join(\n",
        "      c for c in unicodedata.normalize('NFD',s)\n",
        "      if unicodedata.category(c) != 'Mn'\n",
        "      and c in ALL_LETTERS\n",
        "  )\n",
        "\n",
        "def load_data():\n",
        "  category_lines={}\n",
        "  all_categories=[]\n",
        "\n",
        "  def find_files(path):\n",
        "    return glob.glob(path)\n",
        "\n",
        "  def read_lines(filename):\n",
        "    lines=io.open(filename,encoding='utf-8').read().strip().split('\\n')\n",
        "    return [unicode_to_ascii(line) for line in lines]\n",
        "\n",
        "  for filename in find_files('./data/names/*.txt'):\n",
        "    category=os.path.splitext(os.path.basename(filename))[0]\n",
        "    all_categories.append(category)\n",
        "\n",
        "    lines=read_lines(filename)\n",
        "    category_lines[category]=lines\n",
        "\n",
        "  return category_lines, all_categories\n",
        "\n",
        "\n",
        "def letter_to_index(letter):\n",
        "    return ALL_LETTERS.find(letter)\n",
        "\n",
        "\n",
        "def letter_to_tensor(letter):\n",
        "    tensor=torch.zeros(1,N_LETTERS)\n",
        "    tensor[0][letter_to_index(letter)]=1\n",
        "    return tensor\n",
        "\n",
        "\n",
        "\n",
        "def line_to_tensor(line):\n",
        "    tensor=torch.zeros(len(line),1,N_LETTERS)\n",
        "    for i, letter in enumerate(line):\n",
        "      tensor[i][0][letter_to_index(letter)]=1\n",
        "\n",
        "    return tensor\n",
        "\n",
        "def random_training_example(category_lines, all_categories):\n",
        "\n",
        "      def random_choice(a):\n",
        "        random_idx=random.randint(0,len(a)-1)\n",
        "        return a[random_idx]\n",
        "\n",
        "\n",
        "      category=random.choice(all_categories)\n",
        "      line=random_choice(category_lines[category])\n",
        "      category_tensor=torch.tensor([all_categories.index(category)], dtype=torch.long)\n",
        "      line_tensor=line_to_tensor(line)\n",
        "      return category, line, category_tensor, line_tensor\n",
        "\n",
        "\n"
      ],
      "metadata": {
        "id": "EX7AyASWbQB8"
      },
      "execution_count": null,
      "outputs": []
    },
    {
      "cell_type": "code",
      "source": [],
      "metadata": {
        "id": "OkzSVmBFbQFi"
      },
      "execution_count": null,
      "outputs": []
    },
    {
      "cell_type": "code",
      "source": [
        "import torch\n",
        "import torch.nn as nn\n",
        "import matplotlib.pyplot as plt\n"
      ],
      "metadata": {
        "id": "iatySXB7bQII"
      },
      "execution_count": null,
      "outputs": []
    },
    {
      "cell_type": "code",
      "source": [
        "class RNN(nn.Module):\n",
        "  def __init__(self, input_size, hidden_size, output_size):\n",
        "    super(RNN, self).__init__()\n",
        "\n",
        "    self.hidden_size=hidden_size\n",
        "    self.i2h=nn.Linear(input_size + hidden_size, hidden_size)\n",
        "    self.i2o=nn.Linear(input_size+hidden_size, output_size)\n",
        "    self.softmax=nn.Softmax(dim=1)\n",
        "\n",
        "\n",
        "  def forward(self, input_tensor, hidden_tensor):\n",
        "    combined=torch.cat((input_tensor, hidden_tensor), 1)\n",
        "    hidden=self.i2h(combined)\n",
        "    output=self.i2o(combined)\n",
        "    output=self.softmax(output)\n",
        "    return output, hidden\n",
        "\n",
        "\n",
        "  def init_hidden(self):\n",
        "    return torch.zeros(1, self.hidden_size)"
      ],
      "metadata": {
        "id": "5LKn-qATuOrH"
      },
      "execution_count": null,
      "outputs": []
    },
    {
      "cell_type": "code",
      "source": [
        "category_lines, all_categories= load_data()\n",
        "n_categories=len(all_categories)"
      ],
      "metadata": {
        "id": "mUFOtleXuOwQ"
      },
      "execution_count": null,
      "outputs": []
    },
    {
      "cell_type": "code",
      "source": [
        "n_hidden=128\n",
        "rnn=RNN(N_LETTERS, n_hidden, n_categories)\n",
        "\n",
        "input_tensor=letter_to_tensor('A')\n",
        "hidden_tensor=rnn.init_hidden()\n",
        "\n",
        "output, next_hidden=rnn(input_tensor, hidden_tensor)\n",
        "# print(output.shape)\n",
        "# print(next_hidden.shape)\n",
        "\n",
        "input_tensor=line_to_tensor(\"hello\")\n",
        "hidden_tensor=rnn.init_hidden()\n",
        "\n",
        "output, next_hidden=rnn(input_tensor[0], hidden_tensor)\n",
        "# print(output.shape)\n",
        "# print(next_hidden.shape)\n",
        "\n",
        "def category_from_output(output):\n",
        "  category_idx=torch.argmax(output).item()\n",
        "  return all_categories[category_idx]\n",
        "\n",
        "\n",
        "print(category_from_output(output))"
      ],
      "metadata": {
        "colab": {
          "base_uri": "https://localhost:8080/"
        },
        "id": "_duiAU9nuOzU",
        "outputId": "d5914d1b-2949-4270-dbdd-7ab730d87cfb"
      },
      "execution_count": null,
      "outputs": [
        {
          "output_type": "stream",
          "name": "stdout",
          "text": [
            "German\n"
          ]
        }
      ]
    },
    {
      "cell_type": "code",
      "source": [
        "criterion=nn.NLLLoss()\n",
        "learning_rate=0.005\n",
        "optimizer=torch.optim.SGD(rnn.parameters(), lr=learning_rate)"
      ],
      "metadata": {
        "id": "sXkFUEImuO2h"
      },
      "execution_count": null,
      "outputs": []
    },
    {
      "cell_type": "code",
      "source": [
        "def train(line_tensor, category_tensor):\n",
        "  hidden=rnn.init_hidden()\n",
        "  for i in range(line_tensor.size()[0]):\n",
        "    output, hidden=rnn(line_tensor[i], hidden)\n",
        "\n",
        "  loss=criterion(output, category_tensor)\n",
        "  loss.backward()\n",
        "\n",
        "  optimizer.step()\n",
        "  optimizer.zero_grad()\n",
        "\n",
        "  return output, loss.item()\n",
        "\n",
        "\n"
      ],
      "metadata": {
        "id": "Q-r9WOLsuO4-"
      },
      "execution_count": null,
      "outputs": []
    },
    {
      "cell_type": "code",
      "source": [
        "curr_loss=0\n",
        "all_losses=[]\n",
        "\n",
        "plot_steps, print_steps=1000,5000\n",
        "n_iters=100000\n",
        "for i in range(n_iters):\n",
        "  category, line, category_tensor, line_tensor=random_training_example(category_lines, all_categories)\n",
        "  output, loss=train(line_tensor, category_tensor)\n",
        "  curr_loss+=loss\n",
        "  if (i+1)%plot_steps==0:\n",
        "    all_losses.append(curr_loss/plot_steps)\n",
        "    curr_loss=0\n",
        "\n",
        "  if (i+1)%print_steps==0:\n",
        "    guess=category_from_output(output)\n",
        "    correct=\"CORRECT\" if guess==category else f\"WRONG ({category})\"\n",
        "    print(f'{i} {i/n_iters*100}, {loss:.4f}, {line} / {guess} {correct}')\n",
        "\n",
        "\n",
        "\n",
        "plt.figure()\n",
        "plt.plot(all_losses)\n",
        "plt.show()\n",
        "\n",
        "def predict(input_line):\n",
        "  print(f\"\\n{input_line}\")\n",
        "  with torch.no_grad():\n",
        "    line_tensor=line_to_tensor(input_line)\n",
        "    hidden=rnn.init_hidden()\n",
        "    for i in range(line_tensor.size()[0]):\n",
        "      output, hidden=rnn(line_to_tensor[i], hidden)\n",
        "\n",
        "    guess=category_from_output(output)\n",
        "    print(guess)\n",
        "\n",
        "while(True):\n",
        "  sentence=input(\"Input:\")\n",
        "  if(sentence=='quit'):\n",
        "    break\n",
        "\n",
        "  predict(sentence)\n"
      ],
      "metadata": {
        "colab": {
          "base_uri": "https://localhost:8080/",
          "height": 777
        },
        "id": "flIoq6sjuO9C",
        "outputId": "1fcb134c-a480-4997-ac70-d0323ddacb3e"
      },
      "execution_count": null,
      "outputs": [
        {
          "output_type": "stream",
          "name": "stdout",
          "text": [
            "4999 4.999, -0.9434, She / Chinese CORRECT\n",
            "9999 9.998999999999999, -0.0002, Lis / Chinese WRONG (Polish)\n",
            "14999 14.999, -0.0095, Reijnders / Russian WRONG (Dutch)\n",
            "19999 19.999, -0.3724, O'Brian / Irish CORRECT\n",
            "24999 24.999, -0.1517, Santana / Italian WRONG (Portuguese)\n",
            "29999 29.999, -0.0004, Guttridge / Russian WRONG (English)\n",
            "34999 34.999, -0.0010, Picasso / Polish WRONG (Spanish)\n",
            "39999 39.999, -0.5259, Ventura / Portuguese CORRECT\n",
            "44999 44.999, -0.7315, Moy / Chinese CORRECT\n",
            "49999 49.999, -0.0812, Quinn / Chinese WRONG (Irish)\n",
            "54999 54.998999999999995, -0.0032, Small / Japanese WRONG (English)\n",
            "59999 59.999, -0.0044, Nemec / German WRONG (Czech)\n",
            "64999 64.999, -0.0002, Gutierrez / German WRONG (Spanish)\n",
            "69999 69.999, -0.3504, Medeiros / Greek WRONG (Portuguese)\n",
            "74999 74.99900000000001, -0.0012, Almasi / Italian WRONG (Arabic)\n",
            "79999 79.999, -0.0005, Schorel / Portuguese WRONG (Dutch)\n",
            "84999 84.999, -0.0027, Ochiai / Irish WRONG (Japanese)\n",
            "89999 89.999, -0.3033, Hadjiyianakies / Japanese WRONG (Greek)\n",
            "94999 94.999, -0.0001, Mcdonald / Irish WRONG (Scottish)\n",
            "99999 99.99900000000001, -0.0001, Lambert / Portuguese WRONG (French)\n"
          ]
        },
        {
          "output_type": "display_data",
          "data": {
            "text/plain": [
              "<Figure size 640x480 with 1 Axes>"
            ],
            "image/png": "[encoded data removed]"
          },
          "metadata": {}
        }
      ]
    },
    {
      "cell_type": "code",
      "source": [],
      "metadata": {
        "id": "LH0GG33xMUa-"
      },
      "execution_count": null,
      "outputs": []
    },
    {
      "cell_type": "code",
      "source": [],
      "metadata": {
        "id": "23w0b64vuO_7"
      },
      "execution_count": null,
      "outputs": []
    },
    {
      "cell_type": "code",
      "source": [],
      "metadata": {
        "id": "mCulfLw9bQKs"
      },
      "execution_count": null,
      "outputs": []
    },
    {
      "cell_type": "code",
      "source": [],
      "metadata": {
        "id": "gFLSkvSFbQNJ"
      },
      "execution_count": null,
      "outputs": []
    }
  ]
}