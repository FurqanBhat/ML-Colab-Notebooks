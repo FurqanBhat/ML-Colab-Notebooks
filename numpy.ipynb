{
  "nbformat": 4,
  "nbformat_minor": 0,
  "metadata": {
    "colab": {
      "provenance": [],
      "authorship_tag": "ABX9TyNqM7F3SSQvungFSKGQxf47",
      "include_colab_link": true
    },
    "kernelspec": {
      "name": "python3",
      "display_name": "Python 3"
    },
    "language_info": {
      "name": "python"
    }
  },
  "cells": [
    {
      "cell_type": "markdown",
      "metadata": {
        "id": "view-in-github",
        "colab_type": "text"
      },
      "source": [
        "<a href=\"https://colab.research.google.com/github/FurqanBhat/ML-Colab-Notebooks/blob/main/numpy.ipynb\" target=\"_parent\"><img src=\"https://colab.research.google.com/assets/colab-badge.svg\" alt=\"Open In Colab\"/></a>"
      ]
    },
    {
      "cell_type": "code",
      "execution_count": null,
      "metadata": {
        "id": "NFoFSl1h0n6i"
      },
      "outputs": [],
      "source": []
    },
    {
      "cell_type": "code",
      "source": [
        "import numpy as np"
      ],
      "metadata": {
        "id": "ZT2SYgl80rxC"
      },
      "execution_count": null,
      "outputs": []
    },
    {
      "cell_type": "code",
      "source": [
        "np.random.seed(1337)"
      ],
      "metadata": {
        "id": "c37TpRO10r0B"
      },
      "execution_count": null,
      "outputs": []
    },
    {
      "cell_type": "code",
      "source": [
        "x=np.array([1,4,6])\n",
        "x"
      ],
      "metadata": {
        "colab": {
          "base_uri": "https://localhost:8080/"
        },
        "id": "KRaaYzoj0r2b",
        "outputId": "901bcdea-bb36-4452-a146-15d6068c7451"
      },
      "execution_count": null,
      "outputs": [
        {
          "output_type": "execute_result",
          "data": {
            "text/plain": [
              "array([1, 4, 6])"
            ]
          },
          "metadata": {},
          "execution_count": 7
        }
      ]
    },
    {
      "cell_type": "code",
      "source": [
        "y=np.array([[1,2,3],\n",
        "            [4,5,6]])\n",
        "y"
      ],
      "metadata": {
        "colab": {
          "base_uri": "https://localhost:8080/"
        },
        "id": "USz2EAZ80r5l",
        "outputId": "c366dc8f-731f-4185-e3e5-5599c31b0da7"
      },
      "execution_count": null,
      "outputs": [
        {
          "output_type": "execute_result",
          "data": {
            "text/plain": [
              "array([[1, 2, 3],\n",
              "       [4, 5, 6]])"
            ]
          },
          "metadata": {},
          "execution_count": 9
        }
      ]
    },
    {
      "cell_type": "code",
      "source": [
        "x.shape"
      ],
      "metadata": {
        "colab": {
          "base_uri": "https://localhost:8080/"
        },
        "id": "3OFMKMaA0r8b",
        "outputId": "75510e5b-3cf7-4a0a-9d97-c549c7a74761"
      },
      "execution_count": null,
      "outputs": [
        {
          "output_type": "execute_result",
          "data": {
            "text/plain": [
              "(3,)"
            ]
          },
          "metadata": {},
          "execution_count": 10
        }
      ]
    },
    {
      "cell_type": "code",
      "source": [
        "y.shape"
      ],
      "metadata": {
        "colab": {
          "base_uri": "https://localhost:8080/"
        },
        "id": "iWS5bsH70sAg",
        "outputId": "b8602737-9f54-43aa-dfb0-e43f89aa8bcf"
      },
      "execution_count": null,
      "outputs": [
        {
          "output_type": "execute_result",
          "data": {
            "text/plain": [
              "(2, 3)"
            ]
          },
          "metadata": {},
          "execution_count": 11
        }
      ]
    },
    {
      "cell_type": "code",
      "source": [
        "z=np.array([[1,2,3]])\n",
        "z.shape"
      ],
      "metadata": {
        "colab": {
          "base_uri": "https://localhost:8080/"
        },
        "id": "K-tgUi_F0sEf",
        "outputId": "c8356d30-c3c8-4be5-fea9-b02d72835165"
      },
      "execution_count": null,
      "outputs": [
        {
          "output_type": "execute_result",
          "data": {
            "text/plain": [
              "(1, 3)"
            ]
          },
          "metadata": {},
          "execution_count": 13
        }
      ]
    },
    {
      "cell_type": "code",
      "source": [
        "z=np.arange(1,2000,1)\n",
        "z[:10]"
      ],
      "metadata": {
        "colab": {
          "base_uri": "https://localhost:8080/"
        },
        "id": "2wEiD5y10sHH",
        "outputId": "ef48a34e-bfe7-4b7f-a7c4-2ca7c059c451"
      },
      "execution_count": null,
      "outputs": [
        {
          "output_type": "execute_result",
          "data": {
            "text/plain": [
              "array([ 1,  2,  3,  4,  5,  6,  7,  8,  9, 10])"
            ]
          },
          "metadata": {},
          "execution_count": 26
        }
      ]
    },
    {
      "cell_type": "code",
      "source": [
        "np.arange(0.5, 10, 1)\n"
      ],
      "metadata": {
        "colab": {
          "base_uri": "https://localhost:8080/"
        },
        "id": "FHAG9iiY0sLM",
        "outputId": "3ae51cef-480c-49a0-e0d5-3ee868a43288"
      },
      "execution_count": null,
      "outputs": [
        {
          "output_type": "execute_result",
          "data": {
            "text/plain": [
              "array([0.5, 1.5, 2.5, 3.5, 4.5, 5.5, 6.5, 7.5, 8.5, 9.5])"
            ]
          },
          "metadata": {},
          "execution_count": 31
        }
      ]
    },
    {
      "cell_type": "code",
      "source": [
        "np.arange(0.5, 10, 1).reshape(5,2)"
      ],
      "metadata": {
        "colab": {
          "base_uri": "https://localhost:8080/"
        },
        "id": "YQPyixJP0sQy",
        "outputId": "10a91794-3a37-4da2-95bb-a591278d3188"
      },
      "execution_count": null,
      "outputs": [
        {
          "output_type": "execute_result",
          "data": {
            "text/plain": [
              "array([[0.5, 1.5],\n",
              "       [2.5, 3.5],\n",
              "       [4.5, 5.5],\n",
              "       [6.5, 7.5],\n",
              "       [8.5, 9.5]])"
            ]
          },
          "metadata": {},
          "execution_count": 38
        }
      ]
    },
    {
      "cell_type": "code",
      "source": [
        "np.linspace(3,9,10)"
      ],
      "metadata": {
        "colab": {
          "base_uri": "https://localhost:8080/"
        },
        "id": "3tyJdhDP_UDR",
        "outputId": "9af4e002-5a91-4d6a-ed7c-c7436751659b"
      },
      "execution_count": null,
      "outputs": [
        {
          "output_type": "execute_result",
          "data": {
            "text/plain": [
              "array([3.        , 3.66666667, 4.33333333, 5.        , 5.66666667,\n",
              "       6.33333333, 7.        , 7.66666667, 8.33333333, 9.        ])"
            ]
          },
          "metadata": {},
          "execution_count": 39
        }
      ]
    },
    {
      "cell_type": "code",
      "source": [
        "y\n",
        "y[0][1]\n",
        "y[0,1] #same thing"
      ],
      "metadata": {
        "colab": {
          "base_uri": "https://localhost:8080/"
        },
        "id": "kH2hrs4j_UM4",
        "outputId": "92c8fcb3-e0fb-4837-a52c-90aac86592e7"
      },
      "execution_count": null,
      "outputs": [
        {
          "output_type": "execute_result",
          "data": {
            "text/plain": [
              "np.int64(2)"
            ]
          },
          "metadata": {},
          "execution_count": 46
        }
      ]
    },
    {
      "cell_type": "code",
      "source": [
        "y[:, 1]\n",
        "y[1]"
      ],
      "metadata": {
        "colab": {
          "base_uri": "https://localhost:8080/"
        },
        "id": "Cp-G8u4g_UP2",
        "outputId": "900b61c3-e741-4ec1-ade9-263ce1888d1b"
      },
      "execution_count": null,
      "outputs": [
        {
          "output_type": "execute_result",
          "data": {
            "text/plain": [
              "array([4, 5, 6])"
            ]
          },
          "metadata": {},
          "execution_count": 52
        }
      ]
    },
    {
      "cell_type": "code",
      "source": [
        "y"
      ],
      "metadata": {
        "colab": {
          "base_uri": "https://localhost:8080/"
        },
        "id": "JyksXaxI_US7",
        "outputId": "85ab68d6-661f-4ebc-9620-8d1098cb17e6"
      },
      "execution_count": null,
      "outputs": [
        {
          "output_type": "execute_result",
          "data": {
            "text/plain": [
              "array([[1, 2, 3],\n",
              "       [4, 5, 6]])"
            ]
          },
          "metadata": {},
          "execution_count": 49
        }
      ]
    },
    {
      "cell_type": "code",
      "source": [
        "y[:, [0,1]]"
      ],
      "metadata": {
        "colab": {
          "base_uri": "https://localhost:8080/"
        },
        "id": "iEieohH5_UaA",
        "outputId": "114d135b-cb0d-4f2c-ccb2-9718f870a101"
      },
      "execution_count": null,
      "outputs": [
        {
          "output_type": "execute_result",
          "data": {
            "text/plain": [
              "array([[1, 2],\n",
              "       [4, 5]])"
            ]
          },
          "metadata": {},
          "execution_count": 54
        }
      ]
    },
    {
      "cell_type": "code",
      "source": [
        "np.zeros((2,3))"
      ],
      "metadata": {
        "colab": {
          "base_uri": "https://localhost:8080/"
        },
        "id": "6vHUdoY__UdP",
        "outputId": "a28b86bf-7a8e-44c0-e120-72984977cbc0"
      },
      "execution_count": null,
      "outputs": [
        {
          "output_type": "execute_result",
          "data": {
            "text/plain": [
              "array([[0., 0., 0.],\n",
              "       [0., 0., 0.]])"
            ]
          },
          "metadata": {},
          "execution_count": 5
        }
      ]
    },
    {
      "cell_type": "code",
      "source": [
        "np.ones((3,4))"
      ],
      "metadata": {
        "colab": {
          "base_uri": "https://localhost:8080/"
        },
        "id": "ZBJJxnYsxCj1",
        "outputId": "d45ffeb8-4223-4b40-f6e0-f27482ed98ec"
      },
      "execution_count": null,
      "outputs": [
        {
          "output_type": "execute_result",
          "data": {
            "text/plain": [
              "array([[1., 1., 1., 1.],\n",
              "       [1., 1., 1., 1.],\n",
              "       [1., 1., 1., 1.]])"
            ]
          },
          "metadata": {},
          "execution_count": 9
        }
      ]
    },
    {
      "cell_type": "code",
      "source": [
        "a=np.arange(1,7)\n",
        "a"
      ],
      "metadata": {
        "colab": {
          "base_uri": "https://localhost:8080/"
        },
        "id": "nfEkDT9FxCnC",
        "outputId": "abf5fb07-7d89-4c14-ad6d-28475df1caa6"
      },
      "execution_count": null,
      "outputs": [
        {
          "output_type": "execute_result",
          "data": {
            "text/plain": [
              "array([1, 2, 3, 4, 5, 6])"
            ]
          },
          "metadata": {},
          "execution_count": 14
        }
      ]
    },
    {
      "cell_type": "code",
      "source": [
        "a.shape"
      ],
      "metadata": {
        "colab": {
          "base_uri": "https://localhost:8080/"
        },
        "id": "RF72GGNTxCrd",
        "outputId": "804afc3c-7895-46a1-ed88-fad9dc8f1425"
      },
      "execution_count": null,
      "outputs": [
        {
          "output_type": "execute_result",
          "data": {
            "text/plain": [
              "(6,)"
            ]
          },
          "metadata": {},
          "execution_count": 15
        }
      ]
    },
    {
      "cell_type": "code",
      "source": [
        "a[4]=0\n",
        "a"
      ],
      "metadata": {
        "colab": {
          "base_uri": "https://localhost:8080/"
        },
        "id": "etPq0zXoxCuE",
        "outputId": "a5913480-4fdf-431e-d9ed-2effa72ee08b"
      },
      "execution_count": null,
      "outputs": [
        {
          "output_type": "execute_result",
          "data": {
            "text/plain": [
              "array([1, 2, 3, 4, 0, 6])"
            ]
          },
          "metadata": {},
          "execution_count": 17
        }
      ]
    },
    {
      "cell_type": "code",
      "source": [
        "a[:2]=0\n",
        "a"
      ],
      "metadata": {
        "colab": {
          "base_uri": "https://localhost:8080/"
        },
        "id": "px3Z3iiyxCyE",
        "outputId": "ac127edf-2b7c-47d3-ecc0-4a95ccf2be0c"
      },
      "execution_count": null,
      "outputs": [
        {
          "output_type": "execute_result",
          "data": {
            "text/plain": [
              "array([0, 0, 3, 4, 0, 6])"
            ]
          },
          "metadata": {},
          "execution_count": 19
        }
      ]
    },
    {
      "cell_type": "code",
      "source": [
        "a[1:4]=5\n",
        "a"
      ],
      "metadata": {
        "colab": {
          "base_uri": "https://localhost:8080/"
        },
        "id": "cIQYw4xWxC3E",
        "outputId": "a0667bcc-c196-488e-957d-cac31884c414"
      },
      "execution_count": null,
      "outputs": [
        {
          "output_type": "execute_result",
          "data": {
            "text/plain": [
              "array([0, 5, 5, 5, 0, 6])"
            ]
          },
          "metadata": {},
          "execution_count": 20
        }
      ]
    },
    {
      "cell_type": "code",
      "source": [
        "a[1:4]=[1,2,3]\n",
        "a"
      ],
      "metadata": {
        "colab": {
          "base_uri": "https://localhost:8080/"
        },
        "id": "4jYAlLvpxC6M",
        "outputId": "ba873254-bd14-4a65-d3af-1f39479ea1b7"
      },
      "execution_count": null,
      "outputs": [
        {
          "output_type": "execute_result",
          "data": {
            "text/plain": [
              "array([0, 1, 2, 3, 0, 6])"
            ]
          },
          "metadata": {},
          "execution_count": 23
        }
      ]
    },
    {
      "cell_type": "code",
      "source": [
        "b=np.zeros((2,2))\n",
        "b[0,0]=1\n",
        "b[0,1]=2\n",
        "b[1,1]=4\n",
        "b"
      ],
      "metadata": {
        "colab": {
          "base_uri": "https://localhost:8080/"
        },
        "id": "91LX3qRh0iz9",
        "outputId": "8188fe9b-c83c-4670-edde-13f22f1ac60c"
      },
      "execution_count": null,
      "outputs": [
        {
          "output_type": "execute_result",
          "data": {
            "text/plain": [
              "array([[1., 2.],\n",
              "       [0., 4.]])"
            ]
          },
          "metadata": {},
          "execution_count": 34
        }
      ]
    },
    {
      "cell_type": "code",
      "source": [
        "b.shape"
      ],
      "metadata": {
        "colab": {
          "base_uri": "https://localhost:8080/"
        },
        "id": "ZYrUVXOp0i6R",
        "outputId": "dd8db70d-8ee2-42a2-d7b7-c9f09d1b70cf"
      },
      "execution_count": null,
      "outputs": [
        {
          "output_type": "execute_result",
          "data": {
            "text/plain": [
              "(2, 2)"
            ]
          },
          "metadata": {},
          "execution_count": 26
        }
      ]
    },
    {
      "cell_type": "code",
      "source": [
        "# b=b.reshape(4,)\n",
        "# b"
      ],
      "metadata": {
        "colab": {
          "base_uri": "https://localhost:8080/"
        },
        "id": "LFiK0Tr50i9b",
        "outputId": "cafcf937-7cde-4641-c2d0-5a1ae3a7f87d"
      },
      "execution_count": null,
      "outputs": [
        {
          "output_type": "execute_result",
          "data": {
            "text/plain": [
              "array([1., 2., 0., 4.])"
            ]
          },
          "metadata": {},
          "execution_count": 33
        }
      ]
    },
    {
      "cell_type": "code",
      "source": [
        "print(b)"
      ],
      "metadata": {
        "colab": {
          "base_uri": "https://localhost:8080/"
        },
        "id": "oYKtVEsU0jAW",
        "outputId": "c7e96302-0ac0-4908-c767-a857ae343522"
      },
      "execution_count": null,
      "outputs": [
        {
          "output_type": "stream",
          "name": "stdout",
          "text": [
            "[[1. 2.]\n",
            " [0. 4.]]\n"
          ]
        }
      ]
    },
    {
      "cell_type": "code",
      "source": [
        "b+2 #doesn't change b, just makes a copy and gives you answer. Not a good idea for large matrix/array"
      ],
      "metadata": {
        "colab": {
          "base_uri": "https://localhost:8080/"
        },
        "id": "Mab_4LGh0jC9",
        "outputId": "8e193075-eaca-4c3d-bb65-d5e826ba1799"
      },
      "execution_count": null,
      "outputs": [
        {
          "output_type": "execute_result",
          "data": {
            "text/plain": [
              "array([[3., 4.],\n",
              "       [2., 6.]])"
            ]
          },
          "metadata": {},
          "execution_count": 37
        }
      ]
    },
    {
      "cell_type": "code",
      "source": [
        "2*b"
      ],
      "metadata": {
        "colab": {
          "base_uri": "https://localhost:8080/"
        },
        "id": "F3tqO9Rz0jF0",
        "outputId": "8cc38c05-59e0-4840-cc1b-7c666c0ac714"
      },
      "execution_count": null,
      "outputs": [
        {
          "output_type": "execute_result",
          "data": {
            "text/plain": [
              "array([[2., 4.],\n",
              "       [0., 8.]])"
            ]
          },
          "metadata": {},
          "execution_count": 38
        }
      ]
    },
    {
      "cell_type": "code",
      "source": [
        "b**2"
      ],
      "metadata": {
        "colab": {
          "base_uri": "https://localhost:8080/"
        },
        "id": "A4jX8j740jI1",
        "outputId": "3883602f-09c1-423d-b832-33cd91004cb9"
      },
      "execution_count": null,
      "outputs": [
        {
          "output_type": "execute_result",
          "data": {
            "text/plain": [
              "array([[ 1.,  4.],\n",
              "       [ 0., 16.]])"
            ]
          },
          "metadata": {},
          "execution_count": 41
        }
      ]
    },
    {
      "cell_type": "code",
      "source": [
        "sum(b)#python sum function, gives sum of columns"
      ],
      "metadata": {
        "colab": {
          "base_uri": "https://localhost:8080/"
        },
        "id": "z_XaQJiF0jMG",
        "outputId": "3d8d71c4-8546-47ed-b528-6e583d561c28"
      },
      "execution_count": null,
      "outputs": [
        {
          "output_type": "execute_result",
          "data": {
            "text/plain": [
              "array([1., 6.])"
            ]
          },
          "metadata": {},
          "execution_count": 44
        }
      ]
    },
    {
      "cell_type": "code",
      "source": [
        "b.sum() #numpys sum function, gives sum of entire array"
      ],
      "metadata": {
        "colab": {
          "base_uri": "https://localhost:8080/"
        },
        "id": "dHZ7-5Fa0jPL",
        "outputId": "580d9608-4bb8-45bc-c443-188c9dbbdaaf"
      },
      "execution_count": null,
      "outputs": [
        {
          "output_type": "execute_result",
          "data": {
            "text/plain": [
              "np.float64(7.0)"
            ]
          },
          "metadata": {},
          "execution_count": 46
        }
      ]
    },
    {
      "cell_type": "code",
      "source": [
        "b"
      ],
      "metadata": {
        "colab": {
          "base_uri": "https://localhost:8080/"
        },
        "id": "etiLchlT0jUL",
        "outputId": "5e4d9e60-f440-4f9b-f24b-39180b423e6c"
      },
      "execution_count": null,
      "outputs": [
        {
          "output_type": "execute_result",
          "data": {
            "text/plain": [
              "array([[1., 2.],\n",
              "       [0., 4.]])"
            ]
          },
          "metadata": {},
          "execution_count": 47
        }
      ]
    },
    {
      "cell_type": "code",
      "source": [
        "b.sum(axis=0) #sums columnwise , i.e along axis=0(across rows/ along columns)"
      ],
      "metadata": {
        "colab": {
          "base_uri": "https://localhost:8080/"
        },
        "id": "AgI8NMz727x6",
        "outputId": "6d29fecd-27e8-4c62-d7f6-1533edf872d8"
      },
      "execution_count": null,
      "outputs": [
        {
          "output_type": "execute_result",
          "data": {
            "text/plain": [
              "array([1., 6.])"
            ]
          },
          "metadata": {},
          "execution_count": 52
        }
      ]
    },
    {
      "cell_type": "code",
      "source": [
        "b.sum(axis=1) #sums rowwise"
      ],
      "metadata": {
        "colab": {
          "base_uri": "https://localhost:8080/"
        },
        "id": "MKf61SWO2724",
        "outputId": "d214dfb7-ee4d-43d8-a835-1b9b3c8e0d3f"
      },
      "execution_count": null,
      "outputs": [
        {
          "output_type": "execute_result",
          "data": {
            "text/plain": [
              "array([3., 4.])"
            ]
          },
          "metadata": {},
          "execution_count": 50
        }
      ]
    },
    {
      "cell_type": "code",
      "source": [
        "b.sum(axis=0).shape #outputs a rank1 tensor and not a vector"
      ],
      "metadata": {
        "colab": {
          "base_uri": "https://localhost:8080/"
        },
        "id": "KMy49z2k276G",
        "outputId": "00b8cb1f-636d-406e-cafc-6415dba84198"
      },
      "execution_count": null,
      "outputs": [
        {
          "output_type": "execute_result",
          "data": {
            "text/plain": [
              "(2,)"
            ]
          },
          "metadata": {},
          "execution_count": 54
        }
      ]
    },
    {
      "cell_type": "code",
      "source": [
        "b=np.array([[1,2],[3,4]])\n",
        "d=np.array([[3,4],[5,6]])"
      ],
      "metadata": {
        "id": "_YBbzGs9279T"
      },
      "execution_count": null,
      "outputs": []
    },
    {
      "cell_type": "code",
      "source": [
        "b,d"
      ],
      "metadata": {
        "colab": {
          "base_uri": "https://localhost:8080/"
        },
        "id": "5zuuS_iQ28Am",
        "outputId": "1bc61801-76da-4efe-d68d-020b7d1d6e84"
      },
      "execution_count": null,
      "outputs": [
        {
          "output_type": "execute_result",
          "data": {
            "text/plain": [
              "(array([[1, 2],\n",
              "        [3, 4]]),\n",
              " array([[3, 4],\n",
              "        [5, 6]]))"
            ]
          },
          "metadata": {},
          "execution_count": 59
        }
      ]
    },
    {
      "cell_type": "code",
      "source": [
        "b+d"
      ],
      "metadata": {
        "colab": {
          "base_uri": "https://localhost:8080/"
        },
        "id": "pbaOTb0L28D8",
        "outputId": "fcd438ef-3698-4913-e16f-0491c44db3a0"
      },
      "execution_count": null,
      "outputs": [
        {
          "output_type": "execute_result",
          "data": {
            "text/plain": [
              "array([[ 4,  6],\n",
              "       [ 8, 10]])"
            ]
          },
          "metadata": {},
          "execution_count": 60
        }
      ]
    },
    {
      "cell_type": "code",
      "source": [
        "b*d"
      ],
      "metadata": {
        "colab": {
          "base_uri": "https://localhost:8080/"
        },
        "id": "vh-e9vPJ28G4",
        "outputId": "5e10eb53-ab5e-40fd-f9e1-5764f185a4e2"
      },
      "execution_count": null,
      "outputs": [
        {
          "output_type": "execute_result",
          "data": {
            "text/plain": [
              "array([[ 3,  8],\n",
              "       [15, 24]])"
            ]
          },
          "metadata": {},
          "execution_count": 61
        }
      ]
    },
    {
      "cell_type": "code",
      "source": [
        "b.dot(d) #dot product, matrix multiplication"
      ],
      "metadata": {
        "colab": {
          "base_uri": "https://localhost:8080/"
        },
        "id": "B3WT02q75h22",
        "outputId": "c8e4cc4c-ec05-417a-d9c3-75fd43d6bd37"
      },
      "execution_count": null,
      "outputs": [
        {
          "output_type": "execute_result",
          "data": {
            "text/plain": [
              "array([[13, 16],\n",
              "       [29, 36]])"
            ]
          },
          "metadata": {},
          "execution_count": 63
        }
      ]
    },
    {
      "cell_type": "code",
      "source": [
        "b**d"
      ],
      "metadata": {
        "colab": {
          "base_uri": "https://localhost:8080/"
        },
        "id": "bdvYv_Rl28Pq",
        "outputId": "0d01aaa8-2dd3-425a-8818-322440cc9d04"
      },
      "execution_count": null,
      "outputs": [
        {
          "output_type": "execute_result",
          "data": {
            "text/plain": [
              "array([[   1,   16],\n",
              "       [ 243, 4096]])"
            ]
          },
          "metadata": {},
          "execution_count": 62
        }
      ]
    },
    {
      "cell_type": "code",
      "source": [],
      "metadata": {
        "colab": {
          "base_uri": "https://localhost:8080/"
        },
        "id": "6q2g4ksM5bE9",
        "outputId": "5bd23501-cf25-4989-c364-d1bda11137c7"
      },
      "execution_count": null,
      "outputs": [
        {
          "output_type": "execute_result",
          "data": {
            "text/plain": [
              "array([[1, 3],\n",
              "       [2, 4]])"
            ]
          },
          "metadata": {},
          "execution_count": 65
        }
      ]
    },
    {
      "cell_type": "code",
      "source": [
        "b, b.T #transpose"
      ],
      "metadata": {
        "colab": {
          "base_uri": "https://localhost:8080/"
        },
        "id": "T_eIQ4Z028Sk",
        "outputId": "7d42edd0-a597-450b-d737-6cbe89d9db5a"
      },
      "execution_count": null,
      "outputs": [
        {
          "output_type": "execute_result",
          "data": {
            "text/plain": [
              "(array([[1, 2],\n",
              "        [3, 4]]),\n",
              " array([[1, 3],\n",
              "        [2, 4]]))"
            ]
          },
          "metadata": {},
          "execution_count": 73
        }
      ]
    },
    {
      "cell_type": "code",
      "source": [
        "a, a.T, a.shape, a.T.shape #Rank1 tensor has no shape, so transpose is the same with the same shape"
      ],
      "metadata": {
        "colab": {
          "base_uri": "https://localhost:8080/"
        },
        "id": "XL6sqBI8xC82",
        "outputId": "08410ef8-eba4-439f-fc4b-753f56644c05"
      },
      "execution_count": null,
      "outputs": [
        {
          "output_type": "execute_result",
          "data": {
            "text/plain": [
              "(array([0, 1, 2, 3, 0, 6]), array([0, 1, 2, 3, 0, 6]), (6,), (6,))"
            ]
          },
          "metadata": {},
          "execution_count": 71
        }
      ]
    },
    {
      "cell_type": "code",
      "source": [
        "print(np.sqrt(81))\n",
        "x=[1,4,9,16]\n",
        "np.sqrt(x) #numpy is overloaded, i.e it works for both integers and vectors accordingly"
      ],
      "metadata": {
        "colab": {
          "base_uri": "https://localhost:8080/"
        },
        "id": "boeXjycf7b8f",
        "outputId": "582ef418-f566-4d50-f902-61a6466b4d8b"
      },
      "execution_count": null,
      "outputs": [
        {
          "output_type": "stream",
          "name": "stdout",
          "text": [
            "9.0\n"
          ]
        },
        {
          "output_type": "execute_result",
          "data": {
            "text/plain": [
              "array([1., 2., 3., 4.])"
            ]
          },
          "metadata": {},
          "execution_count": 76
        }
      ]
    },
    {
      "cell_type": "code",
      "source": [
        "x=np.array([1,2,4,5,9,3])\n",
        "y=np.array([0,2,3,1,2,3])"
      ],
      "metadata": {
        "id": "Hc6pVnnv7cED"
      },
      "execution_count": null,
      "outputs": []
    },
    {
      "cell_type": "code",
      "source": [
        "x>3"
      ],
      "metadata": {
        "colab": {
          "base_uri": "https://localhost:8080/"
        },
        "id": "drJDHtv17cHn",
        "outputId": "4f03e65d-e04a-40e3-9e66-d3abb1e2b1b2"
      },
      "execution_count": null,
      "outputs": [
        {
          "output_type": "execute_result",
          "data": {
            "text/plain": [
              "array([False, False,  True,  True,  True,  True])"
            ]
          },
          "metadata": {},
          "execution_count": 79
        }
      ]
    },
    {
      "cell_type": "code",
      "source": [
        "x>y"
      ],
      "metadata": {
        "colab": {
          "base_uri": "https://localhost:8080/"
        },
        "id": "cx0ztybs7cLA",
        "outputId": "81b3dc53-42f3-4a4a-d82a-65424c38f3f4"
      },
      "execution_count": null,
      "outputs": [
        {
          "output_type": "execute_result",
          "data": {
            "text/plain": [
              "array([ True, False,  True,  True,  True, False])"
            ]
          },
          "metadata": {},
          "execution_count": 80
        }
      ]
    },
    {
      "cell_type": "code",
      "source": [
        "import math\n",
        "\n",
        "def basic_sigmoid(x):\n",
        "  \"\"\" Compute sigmoid of x.\n",
        "  Arguments:\n",
        "    x->a scaler\n",
        "\n",
        "  Return:\n",
        "   s-> sigmoid(x)\n",
        "\n",
        "   \"\"\"\n",
        "   #the text you put above between 3 doube quotes is called docstring.\n",
        "   #it's printed when you call help function on that method\n",
        "\n",
        "  s=1./(1.+math.e**(-x))\n",
        "  return s"
      ],
      "metadata": {
        "id": "eDRh0mKt7cN_"
      },
      "execution_count": null,
      "outputs": []
    },
    {
      "cell_type": "code",
      "source": [
        "basic_sigmoid(0)"
      ],
      "metadata": {
        "colab": {
          "base_uri": "https://localhost:8080/"
        },
        "id": "dKNbWeyD7cRT",
        "outputId": "c2172d71-aa18-411c-df41-bf283b9040c9"
      },
      "execution_count": null,
      "outputs": [
        {
          "output_type": "execute_result",
          "data": {
            "text/plain": [
              "0.5"
            ]
          },
          "metadata": {},
          "execution_count": 26
        }
      ]
    },
    {
      "cell_type": "code",
      "source": [
        "help(basic_sigmoid)"
      ],
      "metadata": {
        "colab": {
          "base_uri": "https://localhost:8080/"
        },
        "id": "yvglJyIh7cUd",
        "outputId": "6e2a2497-1acb-470d-a766-8116209663e0"
      },
      "execution_count": null,
      "outputs": [
        {
          "output_type": "stream",
          "name": "stdout",
          "text": [
            "Help on function basic_sigmoid in module __main__:\n",
            "\n",
            "basic_sigmoid(x)\n",
            "    Compute sigmoid of x.\n",
            "    Arguments:\n",
            "      x->a scaler\n",
            "    \n",
            "    Return:\n",
            "     s-> sigmoid(x)\n",
            "\n"
          ]
        }
      ]
    },
    {
      "cell_type": "code",
      "source": [
        "x=[1,3,5,8]\n",
        "basic_sigmoid(x) #always try to use built in functions"
      ],
      "metadata": {
        "colab": {
          "base_uri": "https://localhost:8080/",
          "height": 263
        },
        "id": "oWDpPLM57cXy",
        "outputId": "062ebb17-4ea0-4725-8abf-f745d6b574fb"
      },
      "execution_count": null,
      "outputs": [
        {
          "output_type": "error",
          "ename": "TypeError",
          "evalue": "bad operand type for unary -: 'list'",
          "traceback": [
            "\u001b[0;31m---------------------------------------------------------------------------\u001b[0m",
            "\u001b[0;31mTypeError\u001b[0m                                 Traceback (most recent call last)",
            "\u001b[0;32m<ipython-input-30-cf689a608565>\u001b[0m in \u001b[0;36m<cell line: 0>\u001b[0;34m()\u001b[0m\n\u001b[1;32m      1\u001b[0m \u001b[0mx\u001b[0m\u001b[0;34m=\u001b[0m\u001b[0;34m[\u001b[0m\u001b[0;36m1\u001b[0m\u001b[0;34m,\u001b[0m\u001b[0;36m3\u001b[0m\u001b[0;34m,\u001b[0m\u001b[0;36m5\u001b[0m\u001b[0;34m,\u001b[0m\u001b[0;36m8\u001b[0m\u001b[0;34m]\u001b[0m\u001b[0;34m\u001b[0m\u001b[0;34m\u001b[0m\u001b[0m\n\u001b[0;32m----> 2\u001b[0;31m \u001b[0mbasic_sigmoid\u001b[0m\u001b[0;34m(\u001b[0m\u001b[0mx\u001b[0m\u001b[0;34m)\u001b[0m \u001b[0;31m#always try to use built in functions\u001b[0m\u001b[0;34m\u001b[0m\u001b[0;34m\u001b[0m\u001b[0m\n\u001b[0m",
            "\u001b[0;32m<ipython-input-28-c1f3f72ff087>\u001b[0m in \u001b[0;36mbasic_sigmoid\u001b[0;34m(x)\u001b[0m\n\u001b[1;32m     13\u001b[0m    \u001b[0;31m#it's printed when you call help function on that method\u001b[0m\u001b[0;34m\u001b[0m\u001b[0;34m\u001b[0m\u001b[0m\n\u001b[1;32m     14\u001b[0m \u001b[0;34m\u001b[0m\u001b[0m\n\u001b[0;32m---> 15\u001b[0;31m   \u001b[0ms\u001b[0m\u001b[0;34m=\u001b[0m\u001b[0;36m1.\u001b[0m\u001b[0;34m/\u001b[0m\u001b[0;34m(\u001b[0m\u001b[0;36m1.\u001b[0m\u001b[0;34m+\u001b[0m\u001b[0mmath\u001b[0m\u001b[0;34m.\u001b[0m\u001b[0me\u001b[0m\u001b[0;34m**\u001b[0m\u001b[0;34m(\u001b[0m\u001b[0;34m-\u001b[0m\u001b[0mx\u001b[0m\u001b[0;34m)\u001b[0m\u001b[0;34m)\u001b[0m\u001b[0;34m\u001b[0m\u001b[0;34m\u001b[0m\u001b[0m\n\u001b[0m\u001b[1;32m     16\u001b[0m   \u001b[0;32mreturn\u001b[0m \u001b[0ms\u001b[0m\u001b[0;34m\u001b[0m\u001b[0;34m\u001b[0m\u001b[0m\n",
            "\u001b[0;31mTypeError\u001b[0m: bad operand type for unary -: 'list'"
          ]
        }
      ]
    },
    {
      "cell_type": "code",
      "source": [
        "x=[1,3,5,8]\n",
        "x=np.array(x)\n",
        "basic_sigmoid(x) #lists and arrays are not same\n"
      ],
      "metadata": {
        "colab": {
          "base_uri": "https://localhost:8080/"
        },
        "id": "9dpC6PpI7cbI",
        "outputId": "12302e77-cd84-4459-a033-e03b701616f9"
      },
      "execution_count": null,
      "outputs": [
        {
          "output_type": "execute_result",
          "data": {
            "text/plain": [
              "array([0.73105858, 0.95257413, 0.99330715, 0.99966465])"
            ]
          },
          "metadata": {},
          "execution_count": 39
        }
      ]
    },
    {
      "cell_type": "markdown",
      "source": [
        "Broadcasting"
      ],
      "metadata": {
        "id": "g6l_It_pblZX"
      }
    },
    {
      "cell_type": "code",
      "source": [
        "import numpy as np\n",
        "x=np.array([1,2,3])\n",
        "x"
      ],
      "metadata": {
        "colab": {
          "base_uri": "https://localhost:8080/"
        },
        "id": "50doI-wP7cjG",
        "outputId": "0cbdb37b-0cdf-4244-8047-11b1a37e393c"
      },
      "execution_count": null,
      "outputs": [
        {
          "output_type": "execute_result",
          "data": {
            "text/plain": [
              "array([1, 2, 3])"
            ]
          },
          "metadata": {},
          "execution_count": 40
        }
      ]
    },
    {
      "cell_type": "code",
      "source": [
        "x+3"
      ],
      "metadata": {
        "colab": {
          "base_uri": "https://localhost:8080/"
        },
        "id": "pLXjhBb_boaO",
        "outputId": "1b6fbc66-5457-4c61-dab6-8e4528c51ac6"
      },
      "execution_count": null,
      "outputs": [
        {
          "output_type": "execute_result",
          "data": {
            "text/plain": [
              "array([4, 5, 6])"
            ]
          },
          "metadata": {},
          "execution_count": 42
        }
      ]
    },
    {
      "cell_type": "code",
      "source": [
        "#two dimensions are compatible when\n",
        "#1:they are equal\n",
        "#2:one of them is 1"
      ],
      "metadata": {
        "id": "Ml0pkLEjbodX"
      },
      "execution_count": null,
      "outputs": []
    },
    {
      "cell_type": "code",
      "source": [
        "x=np.arange(4)\n",
        "xx=x.reshape(4,1)\n",
        "y=np.ones(5)\n",
        "z=np.ones((3,4))\n",
        "\n",
        "print(f\"x = {x}\")\n",
        "print(f\"xx = {xx}\")\n",
        "print(f\"y = {y}\")\n",
        "\n",
        "print(\"Shapes:\")\n",
        "print(x.shape)\n",
        "print(xx.shape)\n",
        "print(y.shape)"
      ],
      "metadata": {
        "colab": {
          "base_uri": "https://localhost:8080/"
        },
        "id": "wbkIdnRCbohA",
        "outputId": "762a2b64-706e-4106-9cde-36592d905a7a"
      },
      "execution_count": null,
      "outputs": [
        {
          "output_type": "stream",
          "name": "stdout",
          "text": [
            "x = [0 1 2 3]\n",
            "xx = [[0]\n",
            " [1]\n",
            " [2]\n",
            " [3]]\n",
            "y = [1. 1. 1. 1. 1.]\n",
            "Shapes:\n",
            "(4,)\n",
            "(4, 1)\n",
            "(5,)\n"
          ]
        }
      ]
    },
    {
      "cell_type": "code",
      "source": [
        "x+y #don't have the same dims nor is one of the dims 1, hence error"
      ],
      "metadata": {
        "colab": {
          "base_uri": "https://localhost:8080/",
          "height": 141
        },
        "id": "kmBtLlUcbomM",
        "outputId": "08c26a83-05c7-4990-eb39-92788196bd99"
      },
      "execution_count": null,
      "outputs": [
        {
          "output_type": "error",
          "ename": "ValueError",
          "evalue": "operands could not be broadcast together with shapes (4,) (5,) ",
          "traceback": [
            "\u001b[0;31m---------------------------------------------------------------------------\u001b[0m",
            "\u001b[0;31mValueError\u001b[0m                                Traceback (most recent call last)",
            "\u001b[0;32m<ipython-input-60-259706549f3d>\u001b[0m in \u001b[0;36m<cell line: 0>\u001b[0;34m()\u001b[0m\n\u001b[0;32m----> 1\u001b[0;31m \u001b[0mx\u001b[0m\u001b[0;34m+\u001b[0m\u001b[0my\u001b[0m\u001b[0;34m\u001b[0m\u001b[0;34m\u001b[0m\u001b[0m\n\u001b[0m",
            "\u001b[0;31mValueError\u001b[0m: operands could not be broadcast together with shapes (4,) (5,) "
          ]
        }
      ]
    },
    {
      "cell_type": "code",
      "source": [
        "xx, x"
      ],
      "metadata": {
        "colab": {
          "base_uri": "https://localhost:8080/"
        },
        "id": "iOLXwuR1boqf",
        "outputId": "d4505be9-2ffa-41a9-c913-c2584fa79159"
      },
      "execution_count": null,
      "outputs": [
        {
          "output_type": "execute_result",
          "data": {
            "text/plain": [
              "(array([[0],\n",
              "        [1],\n",
              "        [2],\n",
              "        [3]]),\n",
              " array([0, 1, 2, 3]))"
            ]
          },
          "metadata": {},
          "execution_count": 63
        }
      ]
    },
    {
      "cell_type": "code",
      "source": [
        "xx.shape, y.shape, xx, y"
      ],
      "metadata": {
        "colab": {
          "base_uri": "https://localhost:8080/"
        },
        "id": "jr1s9nvCfWR8",
        "outputId": "daa5d5f3-3ff0-4b46-b77f-6ee34f451183"
      },
      "execution_count": null,
      "outputs": [
        {
          "output_type": "execute_result",
          "data": {
            "text/plain": [
              "((4, 1),\n",
              " (5,),\n",
              " array([[0],\n",
              "        [1],\n",
              "        [2],\n",
              "        [3]]),\n",
              " array([1., 1., 1., 1., 1.]))"
            ]
          },
          "metadata": {},
          "execution_count": 79
        }
      ]
    },
    {
      "cell_type": "code",
      "source": [
        "xx+y #xx is broadcast over the columns of y. xx has two dims, 4 and 1,  1 dim leads to broadcasting"
      ],
      "metadata": {
        "colab": {
          "base_uri": "https://localhost:8080/"
        },
        "id": "9vCthg7FfWVo",
        "outputId": "dfcb2b0a-6145-402b-ac85-addc7044923f"
      },
      "execution_count": null,
      "outputs": [
        {
          "output_type": "execute_result",
          "data": {
            "text/plain": [
              "array([[1., 1., 1., 1., 1.],\n",
              "       [2., 2., 2., 2., 2.],\n",
              "       [3., 3., 3., 3., 3.],\n",
              "       [4., 4., 4., 4., 4.]])"
            ]
          },
          "metadata": {},
          "execution_count": 78
        }
      ]
    },
    {
      "cell_type": "code",
      "source": [
        "x, x.shape, z, z.shape"
      ],
      "metadata": {
        "colab": {
          "base_uri": "https://localhost:8080/"
        },
        "id": "DbfK84g6fWZ3",
        "outputId": "e44ad1bd-c09a-4d48-cfad-d217efbaa626"
      },
      "execution_count": null,
      "outputs": [
        {
          "output_type": "execute_result",
          "data": {
            "text/plain": [
              "(array([0, 1, 2, 3]),\n",
              " (4,),\n",
              " array([[1., 1., 1., 1.],\n",
              "        [1., 1., 1., 1.],\n",
              "        [1., 1., 1., 1.]]),\n",
              " (3, 4))"
            ]
          },
          "metadata": {},
          "execution_count": 83
        }
      ]
    },
    {
      "cell_type": "code",
      "source": [
        "x+z"
      ],
      "metadata": {
        "colab": {
          "base_uri": "https://localhost:8080/"
        },
        "id": "PwIjGfGOfWfT",
        "outputId": "95b075f0-2e53-40dc-95c3-fd7129dc4b40"
      },
      "execution_count": null,
      "outputs": [
        {
          "output_type": "execute_result",
          "data": {
            "text/plain": [
              "array([[1., 2., 3., 4.],\n",
              "       [1., 2., 3., 4.],\n",
              "       [1., 2., 3., 4.]])"
            ]
          },
          "metadata": {},
          "execution_count": 84
        }
      ]
    },
    {
      "cell_type": "code",
      "source": [
        "a=np.array([[0.,0.,0.],\n",
        "            [10.,10.,10.],\n",
        "            [20.,20.,20.],\n",
        "            [30.,30.,30.]])\n",
        "b=np.array([1.,2.,3.])"
      ],
      "metadata": {
        "id": "uNuVbLu7fWii"
      },
      "execution_count": null,
      "outputs": []
    },
    {
      "cell_type": "code",
      "source": [
        "a, a.shape, b, b.shape"
      ],
      "metadata": {
        "colab": {
          "base_uri": "https://localhost:8080/"
        },
        "id": "obkfwI5tnOtg",
        "outputId": "d9b1f26a-2fef-4fbe-da34-429b56569baf"
      },
      "execution_count": null,
      "outputs": [
        {
          "output_type": "execute_result",
          "data": {
            "text/plain": [
              "(array([[ 0.,  0.,  0.],\n",
              "        [10., 10., 10.],\n",
              "        [20., 20., 20.],\n",
              "        [30., 30., 30.]]),\n",
              " (4, 3),\n",
              " array([1., 2., 3.]),\n",
              " (3,))"
            ]
          },
          "metadata": {},
          "execution_count": 86
        }
      ]
    },
    {
      "cell_type": "code",
      "source": [
        "a+b"
      ],
      "metadata": {
        "colab": {
          "base_uri": "https://localhost:8080/"
        },
        "id": "aPpHsYaDnOxj",
        "outputId": "d052babc-3291-47b5-ed9b-8642fa96f00a"
      },
      "execution_count": null,
      "outputs": [
        {
          "output_type": "execute_result",
          "data": {
            "text/plain": [
              "array([[ 1.,  2.,  3.],\n",
              "       [11., 12., 13.],\n",
              "       [21., 22., 23.],\n",
              "       [31., 32., 33.]])"
            ]
          },
          "metadata": {},
          "execution_count": 87
        }
      ]
    },
    {
      "cell_type": "code",
      "source": [
        "a=np.array([0.,10.,20.,30.])\n",
        "b=np.array([1.,2.])"
      ],
      "metadata": {
        "id": "9toKm4GdnO1P"
      },
      "execution_count": null,
      "outputs": []
    },
    {
      "cell_type": "code",
      "source": [
        "a, a.shape, b, b.shape"
      ],
      "metadata": {
        "colab": {
          "base_uri": "https://localhost:8080/"
        },
        "id": "QnrkWRH3nPFF",
        "outputId": "de60a6d8-5006-4abe-dab4-b22fe77b2256"
      },
      "execution_count": null,
      "outputs": [
        {
          "output_type": "execute_result",
          "data": {
            "text/plain": [
              "(array([ 0., 10., 20., 30.]), (4,), array([1., 2.]), (2,))"
            ]
          },
          "metadata": {},
          "execution_count": 91
        }
      ]
    },
    {
      "cell_type": "code",
      "source": [
        "a+b #error"
      ],
      "metadata": {
        "colab": {
          "base_uri": "https://localhost:8080/",
          "height": 141
        },
        "id": "D40xIImDnPIr",
        "outputId": "6671a01b-b69a-45dc-b20b-73fa493aad28"
      },
      "execution_count": null,
      "outputs": [
        {
          "output_type": "error",
          "ename": "ValueError",
          "evalue": "operands could not be broadcast together with shapes (4,) (2,) ",
          "traceback": [
            "\u001b[0;31m---------------------------------------------------------------------------\u001b[0m",
            "\u001b[0;31mValueError\u001b[0m                                Traceback (most recent call last)",
            "\u001b[0;32m<ipython-input-92-ca730b97bf8a>\u001b[0m in \u001b[0;36m<cell line: 0>\u001b[0;34m()\u001b[0m\n\u001b[0;32m----> 1\u001b[0;31m \u001b[0ma\u001b[0m\u001b[0;34m+\u001b[0m\u001b[0mb\u001b[0m\u001b[0;34m\u001b[0m\u001b[0;34m\u001b[0m\u001b[0m\n\u001b[0m",
            "\u001b[0;31mValueError\u001b[0m: operands could not be broadcast together with shapes (4,) (2,) "
          ]
        }
      ]
    },
    {
      "cell_type": "code",
      "source": [
        "a=a.reshape(4,1)"
      ],
      "metadata": {
        "id": "3ujmNNBAnPMJ"
      },
      "execution_count": null,
      "outputs": []
    },
    {
      "cell_type": "code",
      "source": [
        "a, a.shape, b, b.shape"
      ],
      "metadata": {
        "colab": {
          "base_uri": "https://localhost:8080/"
        },
        "id": "tXRCN-msoT7S",
        "outputId": "fb491d8e-9a17-4d08-9528-7e1ea96d9965"
      },
      "execution_count": null,
      "outputs": [
        {
          "output_type": "execute_result",
          "data": {
            "text/plain": [
              "(array([[ 0.],\n",
              "        [10.],\n",
              "        [20.],\n",
              "        [30.]]),\n",
              " (4, 1),\n",
              " array([1., 2.]),\n",
              " (2,))"
            ]
          },
          "metadata": {},
          "execution_count": 94
        }
      ]
    },
    {
      "cell_type": "code",
      "source": [
        "a+b"
      ],
      "metadata": {
        "colab": {
          "base_uri": "https://localhost:8080/"
        },
        "id": "bMCcZeyWoT_H",
        "outputId": "912f60d5-55de-4f3a-ddcf-e5a99b36ea48"
      },
      "execution_count": null,
      "outputs": [
        {
          "output_type": "execute_result",
          "data": {
            "text/plain": [
              "array([[ 1.,  2.],\n",
              "       [11., 12.],\n",
              "       [21., 22.],\n",
              "       [31., 32.]])"
            ]
          },
          "metadata": {},
          "execution_count": 95
        }
      ]
    },
    {
      "cell_type": "code",
      "source": [],
      "metadata": {
        "id": "gLtm2qRToUCx"
      },
      "execution_count": null,
      "outputs": []
    },
    {
      "cell_type": "markdown",
      "source": [
        "NORMALIZING ROWS AND COLUMNS"
      ],
      "metadata": {
        "id": "GYIFqGbSpKHC"
      }
    },
    {
      "cell_type": "code",
      "source": [
        "x=np.array([[0, 3, 4],\n",
        "            [1, 6, 4]])\n"
      ],
      "metadata": {
        "id": "wVjpNUdboUGP"
      },
      "execution_count": null,
      "outputs": []
    },
    {
      "cell_type": "code",
      "source": [
        "x_norm=np.amax(x,axis=1)\n",
        "x, x.shape, x_norm, x_norm.shape #can't broadcast\n",
        "\n",
        "x_norm=x_norm.reshape(2,1)\n",
        "x/x_norm\n",
        "\n"
      ],
      "metadata": {
        "colab": {
          "base_uri": "https://localhost:8080/"
        },
        "id": "cDBWwtYupN_J",
        "outputId": "040b6cd4-5599-4719-d800-9ed981b286db"
      },
      "execution_count": null,
      "outputs": [
        {
          "output_type": "execute_result",
          "data": {
            "text/plain": [
              "array([[0.        , 0.75      , 1.        ],\n",
              "       [0.16666667, 1.        , 0.66666667]])"
            ]
          },
          "metadata": {},
          "execution_count": 108
        }
      ]
    },
    {
      "cell_type": "code",
      "source": [
        "x=np.array([[0, 3, 4],\n",
        "            [1, 6, 4]])\n",
        "\n",
        "x_norm=np.linalg.norm(x, ord=2, axis=1, keepdims=True) #keepdims=True gives us outputs in the same dims as in the orginal x\n",
        "x/x_norm"
      ],
      "metadata": {
        "colab": {
          "base_uri": "https://localhost:8080/"
        },
        "id": "rZCFtUCWpOC1",
        "outputId": "1f67cc11-ac29-4ec2-b541-360e572c96c9"
      },
      "execution_count": null,
      "outputs": [
        {
          "output_type": "execute_result",
          "data": {
            "text/plain": [
              "array([[0.        , 0.6       , 0.8       ],\n",
              "       [0.13736056, 0.82416338, 0.54944226]])"
            ]
          },
          "metadata": {},
          "execution_count": 116
        }
      ]
    },
    {
      "cell_type": "code",
      "source": [
        "help(np.linalg.norm)"
      ],
      "metadata": {
        "colab": {
          "base_uri": "https://localhost:8080/"
        },
        "id": "NZOVIr6gpOG2",
        "outputId": "87905991-a04f-40ac-e87b-b03aeb6f6f7c"
      },
      "execution_count": null,
      "outputs": [
        {
          "output_type": "stream",
          "name": "stdout",
          "text": [
            "Help on _ArrayFunctionDispatcher in module numpy.linalg:\n",
            "\n",
            "norm(x, ord=None, axis=None, keepdims=False)\n",
            "    Matrix or vector norm.\n",
            "    \n",
            "    This function is able to return one of eight different matrix norms,\n",
            "    or one of an infinite number of vector norms (described below), depending\n",
            "    on the value of the ``ord`` parameter.\n",
            "    \n",
            "    Parameters\n",
            "    ----------\n",
            "    x : array_like\n",
            "        Input array.  If `axis` is None, `x` must be 1-D or 2-D, unless `ord`\n",
            "        is None. If both `axis` and `ord` are None, the 2-norm of\n",
            "        ``x.ravel`` will be returned.\n",
            "    ord : {non-zero int, inf, -inf, 'fro', 'nuc'}, optional\n",
            "        Order of the norm (see table under ``Notes``). inf means numpy's\n",
            "        `inf` object. The default is None.\n",
            "    axis : {None, int, 2-tuple of ints}, optional.\n",
            "        If `axis` is an integer, it specifies the axis of `x` along which to\n",
            "        compute the vector norms.  If `axis` is a 2-tuple, it specifies the\n",
            "        axes that hold 2-D matrices, and the matrix norms of these matrices\n",
            "        are computed.  If `axis` is None then either a vector norm (when `x`\n",
            "        is 1-D) or a matrix norm (when `x` is 2-D) is returned. The default\n",
            "        is None.\n",
            "    \n",
            "        .. versionadded:: 1.8.0\n",
            "    \n",
            "    keepdims : bool, optional\n",
            "        If this is set to True, the axes which are normed over are left in the\n",
            "        result as dimensions with size one.  With this option the result will\n",
            "        broadcast correctly against the original `x`.\n",
            "    \n",
            "        .. versionadded:: 1.10.0\n",
            "    \n",
            "    Returns\n",
            "    -------\n",
            "    n : float or ndarray\n",
            "        Norm of the matrix or vector(s).\n",
            "    \n",
            "    See Also\n",
            "    --------\n",
            "    scipy.linalg.norm : Similar function in SciPy.\n",
            "    \n",
            "    Notes\n",
            "    -----\n",
            "    For values of ``ord < 1``, the result is, strictly speaking, not a\n",
            "    mathematical 'norm', but it may still be useful for various numerical\n",
            "    purposes.\n",
            "    \n",
            "    The following norms can be calculated:\n",
            "    \n",
            "    =====  ============================  ==========================\n",
            "    ord    norm for matrices             norm for vectors\n",
            "    =====  ============================  ==========================\n",
            "    None   Frobenius norm                2-norm\n",
            "    'fro'  Frobenius norm                --\n",
            "    'nuc'  nuclear norm                  --\n",
            "    inf    max(sum(abs(x), axis=1))      max(abs(x))\n",
            "    -inf   min(sum(abs(x), axis=1))      min(abs(x))\n",
            "    0      --                            sum(x != 0)\n",
            "    1      max(sum(abs(x), axis=0))      as below\n",
            "    -1     min(sum(abs(x), axis=0))      as below\n",
            "    2      2-norm (largest sing. value)  as below\n",
            "    -2     smallest singular value       as below\n",
            "    other  --                            sum(abs(x)**ord)**(1./ord)\n",
            "    =====  ============================  ==========================\n",
            "    \n",
            "    The Frobenius norm is given by [1]_:\n",
            "    \n",
            "    :math:`||A||_F = [\\sum_{i,j} abs(a_{i,j})^2]^{1/2}`\n",
            "    \n",
            "    The nuclear norm is the sum of the singular values.\n",
            "    \n",
            "    Both the Frobenius and nuclear norm orders are only defined for\n",
            "    matrices and raise a ValueError when ``x.ndim != 2``.\n",
            "    \n",
            "    References\n",
            "    ----------\n",
            "    .. [1] G. H. Golub and C. F. Van Loan, *Matrix Computations*,\n",
            "           Baltimore, MD, Johns Hopkins University Press, 1985, pg. 15\n",
            "    \n",
            "    Examples\n",
            "    --------\n",
            "    >>> from numpy import linalg as LA\n",
            "    >>> a = np.arange(9) - 4\n",
            "    >>> a\n",
            "    array([-4, -3, -2, ...,  2,  3,  4])\n",
            "    >>> b = a.reshape((3, 3))\n",
            "    >>> b\n",
            "    array([[-4, -3, -2],\n",
            "           [-1,  0,  1],\n",
            "           [ 2,  3,  4]])\n",
            "    \n",
            "    >>> LA.norm(a)\n",
            "    7.745966692414834\n",
            "    >>> LA.norm(b)\n",
            "    7.745966692414834\n",
            "    >>> LA.norm(b, 'fro')\n",
            "    7.745966692414834\n",
            "    >>> LA.norm(a, np.inf)\n",
            "    4.0\n",
            "    >>> LA.norm(b, np.inf)\n",
            "    9.0\n",
            "    >>> LA.norm(a, -np.inf)\n",
            "    0.0\n",
            "    >>> LA.norm(b, -np.inf)\n",
            "    2.0\n",
            "    \n",
            "    >>> LA.norm(a, 1)\n",
            "    20.0\n",
            "    >>> LA.norm(b, 1)\n",
            "    7.0\n",
            "    >>> LA.norm(a, -1)\n",
            "    -4.6566128774142013e-010\n",
            "    >>> LA.norm(b, -1)\n",
            "    6.0\n",
            "    >>> LA.norm(a, 2)\n",
            "    7.745966692414834\n",
            "    >>> LA.norm(b, 2)\n",
            "    7.3484692283495345\n",
            "    \n",
            "    >>> LA.norm(a, -2)\n",
            "    0.0\n",
            "    >>> LA.norm(b, -2)\n",
            "    1.8570331885190563e-016 # may vary\n",
            "    >>> LA.norm(a, 3)\n",
            "    5.8480354764257312 # may vary\n",
            "    >>> LA.norm(a, -3)\n",
            "    0.0\n",
            "    \n",
            "    Using the `axis` argument to compute vector norms:\n",
            "    \n",
            "    >>> c = np.array([[ 1, 2, 3],\n",
            "    ...               [-1, 1, 4]])\n",
            "    >>> LA.norm(c, axis=0)\n",
            "    array([ 1.41421356,  2.23606798,  5.        ])\n",
            "    >>> LA.norm(c, axis=1)\n",
            "    array([ 3.74165739,  4.24264069])\n",
            "    >>> LA.norm(c, ord=1, axis=1)\n",
            "    array([ 6.,  6.])\n",
            "    \n",
            "    Using the `axis` argument to compute matrix norms:\n",
            "    \n",
            "    >>> m = np.arange(8).reshape(2,2,2)\n",
            "    >>> LA.norm(m, axis=(1,2))\n",
            "    array([  3.74165739,  11.22497216])\n",
            "    >>> LA.norm(m[0, :, :]), LA.norm(m[1, :, :])\n",
            "    (3.7416573867739413, 11.224972160321824)\n",
            "\n"
          ]
        }
      ]
    },
    {
      "cell_type": "code",
      "source": [
        "i = np.array([\n",
        "    [  [ 0.1,  0.1,  0.9 ], [ 0.2,  0.1,  0.9 ], [ 0.3,  0.1,  0.9 ]  ],\n",
        "\n",
        "    [  [ 0.1,  0.2,  0.9 ], [ 0.2,  0.2,  0.9 ], [ 0.3,  0.2,  0.9 ]  ],\n",
        "\n",
        "    [  [ 0.1,  0.3,  0.9 ], [ 0.2,  0.3,  0.9 ], [ 0.3,  0.3,  0.9 ]  ],\n",
        "\n",
        "    [  [ 0.1,  0.4,  0.9 ], [ 0.2,  0.4,  0.9 ], [ 0.3,  0.4,  0.9 ]  ]\n",
        "\n",
        "])"
      ],
      "metadata": {
        "id": "zs5oQpWIpOKv"
      },
      "execution_count": null,
      "outputs": []
    },
    {
      "cell_type": "code",
      "source": [
        "i.shape #this is the shape of images, 4x3 pixels and each pixel has values RGB=3, hence mxnx3"
      ],
      "metadata": {
        "colab": {
          "base_uri": "https://localhost:8080/"
        },
        "id": "yaht6I8vpOOK",
        "outputId": "f7de4bfd-1c90-4cab-d31e-fd923781493a"
      },
      "execution_count": null,
      "outputs": [
        {
          "output_type": "execute_result",
          "data": {
            "text/plain": [
              "(4, 3, 3)"
            ]
          },
          "metadata": {},
          "execution_count": 119
        }
      ]
    },
    {
      "cell_type": "code",
      "source": [
        "#let's plot the above image\n",
        "import matplotlib.pyplot as plt\n",
        "_=plt.imshow(i)\n"
      ],
      "metadata": {
        "colab": {
          "base_uri": "https://localhost:8080/",
          "height": 435
        },
        "id": "yNn0hkSVpOR2",
        "outputId": "78d632d0-1186-4eb8-a63e-3657f36a3ed3"
      },
      "execution_count": null,
      "outputs": [
        {
          "output_type": "display_data",
          "data": {
            "text/plain": [
              "<Figure size 640x480 with 1 Axes>"
            ],
            "image/png": "[encoded data removed]"
          },
          "metadata": {}
        }
      ]
    },
    {
      "cell_type": "code",
      "source": [
        "# x=np.random.rand(10,10,3)\n",
        "# plt.imshow(x) #just for fun"
      ],
      "metadata": {
        "id": "FOO1hvwEpOVp"
      },
      "execution_count": null,
      "outputs": []
    },
    {
      "cell_type": "code",
      "source": [
        "#i=4x3x3=36\n",
        "i.reshape(36,1) #used in ML when a layer takes image input as a vector and not tensor\n"
      ],
      "metadata": {
        "colab": {
          "base_uri": "https://localhost:8080/"
        },
        "id": "pEgboItvpOZQ",
        "outputId": "739ce04f-b116-49e4-cbc1-2cc4e0a0c332"
      },
      "execution_count": null,
      "outputs": [
        {
          "output_type": "execute_result",
          "data": {
            "text/plain": [
              "array([[0.1],\n",
              "       [0.1],\n",
              "       [0.9],\n",
              "       [0.2],\n",
              "       [0.1],\n",
              "       [0.9],\n",
              "       [0.3],\n",
              "       [0.1],\n",
              "       [0.9],\n",
              "       [0.1],\n",
              "       [0.2],\n",
              "       [0.9],\n",
              "       [0.2],\n",
              "       [0.2],\n",
              "       [0.9],\n",
              "       [0.3],\n",
              "       [0.2],\n",
              "       [0.9],\n",
              "       [0.1],\n",
              "       [0.3],\n",
              "       [0.9],\n",
              "       [0.2],\n",
              "       [0.3],\n",
              "       [0.9],\n",
              "       [0.3],\n",
              "       [0.3],\n",
              "       [0.9],\n",
              "       [0.1],\n",
              "       [0.4],\n",
              "       [0.9],\n",
              "       [0.2],\n",
              "       [0.4],\n",
              "       [0.9],\n",
              "       [0.3],\n",
              "       [0.4],\n",
              "       [0.9]])"
            ]
          },
          "metadata": {},
          "execution_count": 168
        }
      ]
    },
    {
      "cell_type": "code",
      "source": [
        "i_sh=i.shape\n",
        "i.reshape(i_sh[0]*i_sh[1]*i_sh[2], 1) #better way to do above reshaping"
      ],
      "metadata": {
        "colab": {
          "base_uri": "https://localhost:8080/"
        },
        "id": "e3NPMAxZwlc3",
        "outputId": "24ce30a7-45eb-4685-9fa9-d868500df4f5"
      },
      "execution_count": null,
      "outputs": [
        {
          "output_type": "execute_result",
          "data": {
            "text/plain": [
              "array([[0.1],\n",
              "       [0.1],\n",
              "       [0.9],\n",
              "       [0.2],\n",
              "       [0.1],\n",
              "       [0.9],\n",
              "       [0.3],\n",
              "       [0.1],\n",
              "       [0.9],\n",
              "       [0.1],\n",
              "       [0.2],\n",
              "       [0.9],\n",
              "       [0.2],\n",
              "       [0.2],\n",
              "       [0.9],\n",
              "       [0.3],\n",
              "       [0.2],\n",
              "       [0.9],\n",
              "       [0.1],\n",
              "       [0.3],\n",
              "       [0.9],\n",
              "       [0.2],\n",
              "       [0.3],\n",
              "       [0.9],\n",
              "       [0.3],\n",
              "       [0.3],\n",
              "       [0.9],\n",
              "       [0.1],\n",
              "       [0.4],\n",
              "       [0.9],\n",
              "       [0.2],\n",
              "       [0.4],\n",
              "       [0.9],\n",
              "       [0.3],\n",
              "       [0.4],\n",
              "       [0.9]])"
            ]
          },
          "metadata": {},
          "execution_count": 167
        }
      ]
    },
    {
      "cell_type": "code",
      "source": [],
      "metadata": {
        "id": "qvSksX8Gwlhm"
      },
      "execution_count": null,
      "outputs": []
    },
    {
      "cell_type": "markdown",
      "source": [
        "Vectorization. Instead of using loops and doing things yourself by doing scaler operations as shown in add_arrays function, just use vector operations provided by library as it would be optimized already. It makes them much faster.\n"
      ],
      "metadata": {
        "id": "tKSxK_fCyCkO"
      }
    },
    {
      "cell_type": "code",
      "source": [
        "dim=20\n",
        "A=np.random.rand(dim,dim)\n",
        "B=np.random.rand(dim,dim)"
      ],
      "metadata": {
        "id": "kJbawubtwlnt"
      },
      "execution_count": null,
      "outputs": []
    },
    {
      "cell_type": "code",
      "source": [
        "A[0].size, A[1].size"
      ],
      "metadata": {
        "colab": {
          "base_uri": "https://localhost:8080/"
        },
        "id": "bMGxszQ6yPk8",
        "outputId": "a1dbf35c-99bd-42ea-a8dd-bd55924ab19c"
      },
      "execution_count": null,
      "outputs": [
        {
          "output_type": "execute_result",
          "data": {
            "text/plain": [
              "(10, 10)"
            ]
          },
          "metadata": {},
          "execution_count": 197
        }
      ]
    },
    {
      "cell_type": "code",
      "source": [
        "def add_arrays(A, B):\n",
        "  C = np.zeros((A.shape[0], A.shape[1]))\n",
        "  for i in range(A.shape[0]):\n",
        "    for j in range(A.shape[1]):\n",
        "      C[i, j] = A[i, j] + B[i, j]\n",
        "  return C\n"
      ],
      "metadata": {
        "id": "iQRqqfgHyPoz"
      },
      "execution_count": null,
      "outputs": []
    },
    {
      "cell_type": "code",
      "source": [
        "%time c= add_arrays(A,B)"
      ],
      "metadata": {
        "colab": {
          "base_uri": "https://localhost:8080/"
        },
        "id": "OOHKBWQEyPs6",
        "outputId": "fedb9643-a4ad-4022-8e79-c00427acf09f"
      },
      "execution_count": null,
      "outputs": [
        {
          "output_type": "stream",
          "name": "stdout",
          "text": [
            "CPU times: user 261 µs, sys: 37 µs, total: 298 µs\n",
            "Wall time: 281 µs\n"
          ]
        }
      ]
    },
    {
      "cell_type": "code",
      "source": [
        "%time c=A+B  #fast, always use library"
      ],
      "metadata": {
        "colab": {
          "base_uri": "https://localhost:8080/"
        },
        "id": "r2LpUzyjyPw3",
        "outputId": "e2e64d02-6850-48d6-8b9b-192b722e73dc"
      },
      "execution_count": null,
      "outputs": [
        {
          "output_type": "stream",
          "name": "stdout",
          "text": [
            "CPU times: user 30 µs, sys: 4 µs, total: 34 µs\n",
            "Wall time: 36.7 µs\n"
          ]
        }
      ]
    },
    {
      "cell_type": "code",
      "source": [
        "import time\n",
        "start = time.time()\n",
        "\n",
        "C=add_arrays(A,B)\n",
        "\n",
        "end=time.time()\n",
        "\n",
        "non_vec_time=end-start\n",
        "\n",
        "start=time.time()\n",
        "\n",
        "C=A+B\n",
        "\n",
        "end=time.time()\n",
        "\n",
        "vec_time=end-start\n"
      ],
      "metadata": {
        "id": "TIjOZoVoyP1A"
      },
      "execution_count": null,
      "outputs": []
    },
    {
      "cell_type": "code",
      "source": [
        "vec_time/non_vec_time * 100"
      ],
      "metadata": {
        "colab": {
          "base_uri": "https://localhost:8080/"
        },
        "id": "iGLiQPk22_12",
        "outputId": "d6edacf1-84e1-4b96-ff80-91eb12eb30b6"
      },
      "execution_count": null,
      "outputs": [
        {
          "output_type": "execute_result",
          "data": {
            "text/plain": [
              "20.905172413793103"
            ]
          },
          "metadata": {},
          "execution_count": 213
        }
      ]
    },
    {
      "cell_type": "code",
      "source": [
        "%%time\n",
        "total=0\n",
        "for i in np.arange(100_000_000):\n",
        "  total+=i\n",
        "\n",
        "print(total)"
      ],
      "metadata": {
        "colab": {
          "base_uri": "https://localhost:8080/"
        },
        "id": "BhmD-4Ii2_8O",
        "outputId": "b86e97d4-ff0c-48a5-c5c3-e0c654b1d05f"
      },
      "execution_count": null,
      "outputs": [
        {
          "output_type": "stream",
          "name": "stdout",
          "text": [
            "4999999950000000\n",
            "CPU times: user 19 s, sys: 316 ms, total: 19.3 s\n",
            "Wall time: 20.1 s\n"
          ]
        }
      ]
    },
    {
      "cell_type": "code",
      "source": [
        "%time sum(np.arange(100_000_000))"
      ],
      "metadata": {
        "colab": {
          "base_uri": "https://localhost:8080/"
        },
        "id": "A8_JlBfS3AAq",
        "outputId": "ebf38956-81d5-49e9-9f2d-3c0f6669fd30"
      },
      "execution_count": null,
      "outputs": [
        {
          "output_type": "stream",
          "name": "stdout",
          "text": [
            "CPU times: user 9.81 s, sys: 130 ms, total: 9.94 s\n",
            "Wall time: 10.1 s\n"
          ]
        },
        {
          "output_type": "execute_result",
          "data": {
            "text/plain": [
              "np.int64(4999999950000000)"
            ]
          },
          "metadata": {},
          "execution_count": 215
        }
      ]
    },
    {
      "cell_type": "code",
      "source": [
        "#Whenever you realize you have to use a loop, try to use library to that thing. loops are slow and even if loops are used in the library functions, they are optimized"
      ],
      "metadata": {
        "id": "EbFV_wcN3AEh"
      },
      "execution_count": null,
      "outputs": []
    },
    {
      "cell_type": "code",
      "source": [],
      "metadata": {
        "id": "D-L2wulT3AMm"
      },
      "execution_count": null,
      "outputs": []
    },
    {
      "cell_type": "code",
      "source": [],
      "metadata": {
        "id": "ZvI6bK13yP5S"
      },
      "execution_count": null,
      "outputs": []
    },
    {
      "cell_type": "code",
      "source": [],
      "metadata": {
        "id": "yl3RYxj1wlrZ"
      },
      "execution_count": null,
      "outputs": []
    }
  ]
}