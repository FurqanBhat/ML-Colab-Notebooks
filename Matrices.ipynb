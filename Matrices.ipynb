{
  "nbformat": 4,
  "nbformat_minor": 0,
  "metadata": {
    "colab": {
      "provenance": [],
      "authorship_tag": "ABX9TyM7B/l9tpOFj6onH0Im2wTE",
      "include_colab_link": true
    },
    "kernelspec": {
      "name": "python3",
      "display_name": "Python 3"
    },
    "language_info": {
      "name": "python"
    }
  },
  "cells": [
    {
      "cell_type": "markdown",
      "metadata": {
        "id": "view-in-github",
        "colab_type": "text"
      },
      "source": [
        "<a href=\"https://colab.research.google.com/github/FurqanBhat/ML-Colab-Notebooks/blob/main/Matrices.ipynb\" target=\"_parent\"><img src=\"https://colab.research.google.com/assets/colab-badge.svg\" alt=\"Open In Colab\"/></a>"
      ]
    },
    {
      "cell_type": "code",
      "execution_count": null,
      "metadata": {
        "id": "B1NhWH2STXs9"
      },
      "outputs": [],
      "source": [
        "class Matrix:\n",
        "  def __init__(self, dims, fill):\n",
        "    self.rows=dims[0]\n",
        "    self.cols=dims[1]\n",
        "    self.A=[\n",
        "        [fill]*self.cols\n",
        "        for i in range(self.rows)\n",
        "    ]"
      ]
    },
    {
      "cell_type": "code",
      "source": [
        "m=Matrix((3,4),2.0)\n",
        "print(m, m.A)\n",
        "print(len(m.A))"
      ],
      "metadata": {
        "colab": {
          "base_uri": "https://localhost:8080/"
        },
        "id": "75YiQypLTYS5",
        "outputId": "8fbf054d-97c4-4f7e-ec56-bf16e5922854"
      },
      "execution_count": null,
      "outputs": [
        {
          "output_type": "stream",
          "name": "stdout",
          "text": [
            "<__main__.Matrix object at 0x7cfbeddad3d0> [[2.0, 2.0, 2.0, 2.0], [2.0, 2.0, 2.0, 2.0], [2.0, 2.0, 2.0, 2.0]]\n",
            "3\n"
          ]
        }
      ]
    },
    {
      "cell_type": "code",
      "source": [
        "def __str__(self):\n",
        "  rows=len(self.A)\n",
        "  ret=''\n",
        "\n",
        "  for i in range(rows):\n",
        "    cols=len(self.A[i])\n",
        "\n",
        "    for j in range(cols):\n",
        "      ret+=str(self.A[i][j])+'\\t'\n",
        "    ret+='\\n'\n",
        "\n",
        "  return ret\n",
        "\n",
        "Matrix.__str__=__str__"
      ],
      "metadata": {
        "id": "GTmCwBu0TYV3"
      },
      "execution_count": null,
      "outputs": []
    },
    {
      "cell_type": "code",
      "source": [
        "print(m)"
      ],
      "metadata": {
        "colab": {
          "base_uri": "https://localhost:8080/"
        },
        "id": "KQrCOnpRTYYb",
        "outputId": "14fd17b3-a17d-4685-f939-77e3c9f8cdec"
      },
      "execution_count": null,
      "outputs": [
        {
          "output_type": "stream",
          "name": "stdout",
          "text": [
            "2.0\t2.0\t2.0\t2.0\t\n",
            "2.0\t2.0\t2.0\t2.0\t\n",
            "2.0\t2.0\t2.0\t2.0\t\n",
            "\n"
          ]
        }
      ]
    },
    {
      "cell_type": "code",
      "source": [
        "[[x]*3 for x in range(3)]"
      ],
      "metadata": {
        "colab": {
          "base_uri": "https://localhost:8080/"
        },
        "id": "nbRk1-mOTYd7",
        "outputId": "11a58d3e-dcf5-4e55-caca-f275d5984eb3"
      },
      "execution_count": null,
      "outputs": [
        {
          "output_type": "execute_result",
          "data": {
            "text/plain": [
              "[[0, 0, 0], [1, 1, 1], [2, 2, 2]]"
            ]
          },
          "metadata": {},
          "execution_count": 24
        }
      ]
    },
    {
      "cell_type": "code",
      "source": [
        "%time n=Matrix((100,100), 0.0)"
      ],
      "metadata": {
        "colab": {
          "base_uri": "https://localhost:8080/"
        },
        "id": "T6dZfl4dTYgs",
        "outputId": "fe52b3f2-61b9-4d49-f803-d04b03a09fc9"
      },
      "execution_count": null,
      "outputs": [
        {
          "output_type": "stream",
          "name": "stdout",
          "text": [
            "CPU times: user 141 µs, sys: 0 ns, total: 141 µs\n",
            "Wall time: 145 µs\n"
          ]
        }
      ]
    },
    {
      "cell_type": "code",
      "source": [
        "from sys import getsizeof\n",
        "print(getsizeof(m))\n",
        "print(getsizeof(n))"
      ],
      "metadata": {
        "colab": {
          "base_uri": "https://localhost:8080/"
        },
        "id": "BnNYfMtkTYi-",
        "outputId": "35680032-3a0c-4a2f-c2aa-96e219eaad2d"
      },
      "execution_count": null,
      "outputs": [
        {
          "output_type": "stream",
          "name": "stdout",
          "text": [
            "56\n",
            "56\n"
          ]
        }
      ]
    },
    {
      "cell_type": "code",
      "source": [
        "!pip install pympler"
      ],
      "metadata": {
        "colab": {
          "base_uri": "https://localhost:8080/"
        },
        "id": "HJHEfNQWpQOq",
        "outputId": "598f511e-4319-48b9-834f-df11291d3d28"
      },
      "execution_count": null,
      "outputs": [
        {
          "output_type": "stream",
          "name": "stdout",
          "text": [
            "Collecting pympler\n",
            "  Downloading Pympler-1.1-py3-none-any.whl.metadata (3.6 kB)\n",
            "Downloading Pympler-1.1-py3-none-any.whl (165 kB)\n",
            "\u001b[2K   \u001b[90m━━━━━━━━━━━━━━━━━━━━━━━━━━━━━━━━━━━━━━━━\u001b[0m \u001b[32m165.8/165.8 kB\u001b[0m \u001b[31m3.1 MB/s\u001b[0m eta \u001b[36m0:00:00\u001b[0m\n",
            "\u001b[?25hInstalling collected packages: pympler\n",
            "Successfully installed pympler-1.1\n"
          ]
        }
      ]
    },
    {
      "cell_type": "code",
      "source": [
        "from pympler.asizeof import asizeof\n",
        "asizeof(m), asizeof(n)"
      ],
      "metadata": {
        "colab": {
          "base_uri": "https://localhost:8080/"
        },
        "id": "D4MHKpmppQRe",
        "outputId": "cbe3f0fa-3a17-4b1e-a9b3-abda5dad8740"
      },
      "execution_count": null,
      "outputs": [
        {
          "output_type": "execute_result",
          "data": {
            "text/plain": [
              "(944, 87080)"
            ]
          },
          "metadata": {},
          "execution_count": 32
        }
      ]
    },
    {
      "cell_type": "code",
      "source": [
        "dim=5000\n",
        "%time m=Matrix((dim,dim), 0.0)"
      ],
      "metadata": {
        "colab": {
          "base_uri": "https://localhost:8080/"
        },
        "id": "n3VJgve9pQVQ",
        "outputId": "891c20bd-8d96-41b0-cb60-fba4f1b78a9f"
      },
      "execution_count": null,
      "outputs": [
        {
          "output_type": "stream",
          "name": "stdout",
          "text": [
            "CPU times: user 176 ms, sys: 0 ns, total: 176 ms\n",
            "Wall time: 177 ms\n"
          ]
        }
      ]
    },
    {
      "cell_type": "code",
      "source": [
        "size=asizeof(m)/(1024*1024)\n",
        "print(f\"{size:.3f} MBs\")"
      ],
      "metadata": {
        "colab": {
          "base_uri": "https://localhost:8080/"
        },
        "id": "OpkfE_QlpQXu",
        "outputId": "05ac471a-acf5-446b-d7b9-84fb8c67d6be"
      },
      "execution_count": null,
      "outputs": [
        {
          "output_type": "stream",
          "name": "stdout",
          "text": [
            "191.042 MBs\n"
          ]
        }
      ]
    },
    {
      "cell_type": "code",
      "source": [
        "def get(self, i, j):\n",
        "  if i<0 or i>self.rows:\n",
        "    raise ValueError('Row Index Out of Range')\n",
        "\n",
        "  if j<0 or j>self.cols:\n",
        "    raise ValueError(\"Column Index Out of Range\")\n",
        "\n",
        "  return self.A[i][j]\n",
        "\n",
        "Matrix.get=get"
      ],
      "metadata": {
        "id": "456t6tkDpQa3"
      },
      "execution_count": null,
      "outputs": []
    },
    {
      "cell_type": "code",
      "source": [
        "%time m.get(2,3)"
      ],
      "metadata": {
        "colab": {
          "base_uri": "https://localhost:8080/"
        },
        "id": "9b4JWc32pQdj",
        "outputId": "2c0591fa-ec3e-48d7-faaa-4f1be7c5366b"
      },
      "execution_count": null,
      "outputs": [
        {
          "output_type": "stream",
          "name": "stdout",
          "text": [
            "CPU times: user 10 µs, sys: 0 ns, total: 10 µs\n",
            "Wall time: 13.6 µs\n"
          ]
        },
        {
          "output_type": "execute_result",
          "data": {
            "text/plain": [
              "0.0"
            ]
          },
          "metadata": {},
          "execution_count": 54
        }
      ]
    },
    {
      "cell_type": "code",
      "source": [
        "class Matrix:\n",
        "  def __init__(self,dims):\n",
        "    self.rows=dims[0]\n",
        "    self.cols=dims[1]\n",
        "    self.vals={}"
      ],
      "metadata": {
        "id": "KWV3WCrdtDlB"
      },
      "execution_count": null,
      "outputs": []
    },
    {
      "cell_type": "code",
      "source": [
        "def set(self, i, j, val):\n",
        "  self.vals[(i,j)]=val\n",
        "\n",
        "Matrix.set=set"
      ],
      "metadata": {
        "id": "C4dxxt63tDyd"
      },
      "execution_count": null,
      "outputs": []
    },
    {
      "cell_type": "code",
      "source": [
        "def get(self, i, j):\n",
        "  if i<0 or i>self.rows:\n",
        "    raise ValueError(\"Row index out of range\")\n",
        "\n",
        "  if j<0 or j>self.cols:\n",
        "    raise ValueError(\"Column index out of range\")\n",
        "\n",
        "  if (i,j) in self.vals:\n",
        "    return self.vals[(i,j)]\n",
        "\n",
        "\n",
        "  return 0.0\n",
        "\n",
        "\n",
        "\n",
        "Matrix.get=get"
      ],
      "metadata": {
        "id": "LQS0R2H8tD1f"
      },
      "execution_count": null,
      "outputs": []
    },
    {
      "cell_type": "code",
      "source": [
        "m=Matrix((5,5))\n",
        "m.vals"
      ],
      "metadata": {
        "colab": {
          "base_uri": "https://localhost:8080/"
        },
        "id": "LcF3sCJItD6Y",
        "outputId": "d23ac1fa-7e04-48f0-e668-28aca46d980e"
      },
      "execution_count": null,
      "outputs": [
        {
          "output_type": "execute_result",
          "data": {
            "text/plain": [
              "{}"
            ]
          },
          "metadata": {},
          "execution_count": 62
        }
      ]
    },
    {
      "cell_type": "code",
      "source": [
        "m.get(1,1)"
      ],
      "metadata": {
        "colab": {
          "base_uri": "https://localhost:8080/"
        },
        "id": "CKKvIBfLtD9d",
        "outputId": "5c690d50-f717-453a-be22-5d7c1ca5b48b"
      },
      "execution_count": null,
      "outputs": [
        {
          "output_type": "execute_result",
          "data": {
            "text/plain": [
              "0.0"
            ]
          },
          "metadata": {},
          "execution_count": 63
        }
      ]
    },
    {
      "cell_type": "code",
      "source": [
        "m.set(1,2,15.0)\n",
        "m.get(1,2)"
      ],
      "metadata": {
        "colab": {
          "base_uri": "https://localhost:8080/"
        },
        "id": "-6mqpNA4tD_v",
        "outputId": "210be96d-8851-4d05-f793-8151f0b0e7f1"
      },
      "execution_count": null,
      "outputs": [
        {
          "output_type": "execute_result",
          "data": {
            "text/plain": [
              "15.0"
            ]
          },
          "metadata": {},
          "execution_count": 65
        }
      ]
    },
    {
      "cell_type": "code",
      "source": [
        "m.vals"
      ],
      "metadata": {
        "colab": {
          "base_uri": "https://localhost:8080/"
        },
        "id": "vb5i300xtECU",
        "outputId": "de887217-7c54-4cd6-a70b-7fa51d6ffa98"
      },
      "execution_count": null,
      "outputs": [
        {
          "output_type": "execute_result",
          "data": {
            "text/plain": [
              "{(1, 2): 15.0}"
            ]
          },
          "metadata": {},
          "execution_count": 66
        }
      ]
    },
    {
      "cell_type": "code",
      "source": [
        "dim=500\n",
        "m=Matrix((dim,dim))\n",
        "asizeof(m)"
      ],
      "metadata": {
        "colab": {
          "base_uri": "https://localhost:8080/"
        },
        "id": "WpaPgVi7tEGc",
        "outputId": "f390e038-51b9-4c47-e315-2a9cac6b92fc"
      },
      "execution_count": null,
      "outputs": [
        {
          "output_type": "execute_result",
          "data": {
            "text/plain": [
              "608"
            ]
          },
          "metadata": {},
          "execution_count": 67
        }
      ]
    },
    {
      "cell_type": "code",
      "source": [],
      "metadata": {
        "id": "cN5v4FsgtEI6"
      },
      "execution_count": null,
      "outputs": []
    },
    {
      "cell_type": "code",
      "source": [],
      "metadata": {
        "id": "vWupStHwtELj"
      },
      "execution_count": null,
      "outputs": []
    }
  ]
}